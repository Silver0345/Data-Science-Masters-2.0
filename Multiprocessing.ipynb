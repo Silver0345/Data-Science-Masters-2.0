{
 "cells": [
  {
   "cell_type": "markdown",
   "id": "cdb23bbf-9906-4ef1-98b2-e817b4d263c8",
   "metadata": {},
   "source": [
    "# Multiprocessing"
   ]
  },
  {
   "cell_type": "markdown",
   "id": "83f238cd-0a82-4d91-96b2-24ed01e32b81",
   "metadata": {},
   "source": [
    "### Q1. What is multiprocessing in python? Why is it useful? "
   ]
  },
  {
   "cell_type": "markdown",
   "id": "d5059b96-a969-4eeb-a64c-0fb00772f626",
   "metadata": {},
   "source": [
    "Multiproccessing is a module in python that allows you to create multiple processes that runs independently and performing tasks simultaneously."
   ]
  },
  {
   "cell_type": "markdown",
   "id": "2890331f-375e-4a27-ae12-f1177471f364",
   "metadata": {},
   "source": [
    "Multiprocessing is useful as it enables you to execute tasks parallelly which can lead to faster execution of computationally intensive tasks. One process crashing due to an error will not affect other processes. Also, multiprocessing allows you to scale up your applications to take advantage of more CPU resouces as needed."
   ]
  },
  {
   "cell_type": "markdown",
   "id": "8eb4eff3-12df-4775-b33a-a7791e752ce2",
   "metadata": {},
   "source": [
    "### Q2. What are the differences between multiprocessing and multithreading?"
   ]
  },
  {
   "cell_type": "markdown",
   "id": "4f51ef10-cdf0-4222-b973-8825f738f08d",
   "metadata": {},
   "source": [
    "The differences between multiprocessing and multithreading is that multiprocessing allows you to create multiple processes that execute tasks independently and simultaneously while in multithreading, multiple threads run within same process and share the same memory space."
   ]
  },
  {
   "cell_type": "markdown",
   "id": "23fccd59-bd7d-4e29-b27d-fb99c8a145d8",
   "metadata": {},
   "source": [
    "### Q3. Write a python code to create a process using the multiprocessing module."
   ]
  },
  {
   "cell_type": "code",
   "execution_count": 2,
   "id": "18597697-d3bf-4cca-879b-6ef63e6408bc",
   "metadata": {},
   "outputs": [
    {
     "name": "stdout",
     "output_type": "stream",
     "text": [
      "Hello World!, this is test_multiprocessing.\n"
     ]
    }
   ],
   "source": [
    "import multiprocessing\n",
    "\n",
    "def test_multiprocessing():\n",
    "    print(\"Hello World!, this is test_multiprocessing.\")\n",
    "    \n",
    "if __name__ == \"__main__\":\n",
    "    process = multiprocessing.Process(target=test_multiprocessing)\n",
    "    process.start()\n",
    "    process.join()\n",
    "    "
   ]
  },
  {
   "cell_type": "markdown",
   "id": "b8ea825d-12c4-4859-8ac7-53637b6eddfa",
   "metadata": {},
   "source": [
    "### Q4. What is a multiprocessing pool in python? Why is it used?"
   ]
  },
  {
   "cell_type": "markdown",
   "id": "356e71f2-2f11-47eb-8671-9a8c57f2a4ad",
   "metadata": {},
   "source": [
    "Multiprocessing pool is a class that allows you to create and manage process pools in Python. \n",
    "\n",
    "Multiprocessing pool is used to manage worker processes for parallel execution of functions or tasks in python."
   ]
  },
  {
   "cell_type": "markdown",
   "id": "9e66f9c5-51ac-482e-a3c4-5974d6f813b0",
   "metadata": {},
   "source": [
    "### Q5. How can we create a pool of worker processes in python using the multiprocessing module?"
   ]
  },
  {
   "cell_type": "markdown",
   "id": "defb890e-d7a0-4c5c-8d21-ec8959a4ef77",
   "metadata": {},
   "source": [
    "You can create a pool of worker processes in python by first importing multiprocessing using 'import multiprocessing', then define a function that you want to execute concurrently in multiple processes. Finally, create multiple processing pool with a specified number of worker processing using 'muliprocessing.Pool'."
   ]
  },
  {
   "cell_type": "markdown",
   "id": "ef7de467-ca4e-4a95-af66-81ae73bd36f1",
   "metadata": {},
   "source": [
    "### Q6. Write a python program to create 4 processes, each process should print a different number using the multiprocessing module in python."
   ]
  },
  {
   "cell_type": "code",
   "execution_count": 2,
   "id": "fa277164-d7a0-4e23-b60a-d78d2e22db8f",
   "metadata": {},
   "outputs": [
    {
     "name": "stdout",
     "output_type": "stream",
     "text": [
      "[9, 16, 25, 36, 49, 7569, 64, 81]\n",
      "[27, 64, 125, 216, 343, 658503, 512, 729]\n"
     ]
    }
   ],
   "source": [
    "# testing\n",
    "import multiprocessing\n",
    "\n",
    "def square(n):\n",
    "   return n**2\n",
    "\n",
    "def cube(n):\n",
    "    return n**3\n",
    "\n",
    "\n",
    "if __name__ == \"__main__\":\n",
    "   with multiprocessing.Pool(processes=4) as pool:\n",
    "        m1 = pool.map(square, [3,4,5,6,7,87,8,9])\n",
    "        m2 = pool.map(cube, [3,4,5,6,7,87,8,9])\n",
    "        \n",
    "        print(m1)\n",
    "        print(m2)"
   ]
  },
  {
   "cell_type": "code",
   "execution_count": 6,
   "id": "7227a3fe-5a9c-4722-859c-21b522e8a27d",
   "metadata": {},
   "outputs": [
    {
     "name": "stdout",
     "output_type": "stream",
     "text": [
      "Process #1, Printing #1\n",
      "Process #2, Printing #2\n",
      "Process #3, Printing #3\n",
      "Process #4, Printing #4\n",
      "\n",
      "\n",
      "\n",
      "\n"
     ]
    }
   ],
   "source": [
    "# Aswer\n",
    "\n",
    "import multiprocessing\n",
    "\n",
    "def print_numb(n):\n",
    "    print(\"Process #{}, Printing #{}\\n\".format(n, n))\n",
    "    \n",
    "if __name__ == \"__main__\":\n",
    "    \n",
    "    with multiprocessing.Pool(processes=4) as pool:\n",
    "        pool.map(print_numb, [1, 2, 3, 4])"
   ]
  }
 ],
 "metadata": {
  "kernelspec": {
   "display_name": "Python 3 (ipykernel)",
   "language": "python",
   "name": "python3"
  },
  "language_info": {
   "codemirror_mode": {
    "name": "ipython",
    "version": 3
   },
   "file_extension": ".py",
   "mimetype": "text/x-python",
   "name": "python",
   "nbconvert_exporter": "python",
   "pygments_lexer": "ipython3",
   "version": "3.10.8"
  }
 },
 "nbformat": 4,
 "nbformat_minor": 5
}
