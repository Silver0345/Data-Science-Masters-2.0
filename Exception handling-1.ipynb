{
 "cells": [
  {
   "cell_type": "markdown",
   "id": "5a96101d-5d3b-451c-83f3-eed279bd5d57",
   "metadata": {},
   "source": [
    "# Exception handling-1"
   ]
  },
  {
   "cell_type": "markdown",
   "id": "ba5e8a26-be4b-40b7-973a-cdd2bfeee2a3",
   "metadata": {},
   "source": [
    "### Q1. What is an Exception in python? Write the difference between Exceptions and Syntax errors."
   ]
  },
  {
   "cell_type": "markdown",
   "id": "e4b7d29e-98f6-4025-bea4-7ea4087e55d6",
   "metadata": {},
   "source": [
    "Exception is an event that occur during the execution of your code to indicate that there is something wrong with your code during its execution. It is also a way to handle errors in your code without crashing the program. "
   ]
  },
  {
   "cell_type": "markdown",
   "id": "15069c7f-2c85-409f-ac2a-f14d2a1c4250",
   "metadata": {},
   "source": [
    "The difference between Exceptions and Syntax errors is that exception happen during the execution of your code to let you know something unexpected happened while Syntax errors occurs before the programm is executed to let you know that you did not follow the programming syntax rules."
   ]
  },
  {
   "cell_type": "markdown",
   "id": "9a6b80ec-23ad-486d-a352-27bd586a9c44",
   "metadata": {},
   "source": [
    "### Q2. What happens when an exception is not handled? Explain with an example"
   ]
  },
  {
   "cell_type": "markdown",
   "id": "f9bd2a80-8526-458d-baae-6338611c7390",
   "metadata": {},
   "source": [
    "The programm terminate when an exception is not handled, and provide an error message that indicate what kind of exception(s) or error(s) that caused the programm to crashed. "
   ]
  },
  {
   "cell_type": "code",
   "execution_count": 1,
   "id": "75bb32a4-42d6-47a6-b45c-8bc90d0edff4",
   "metadata": {},
   "outputs": [
    {
     "ename": "ZeroDivisionError",
     "evalue": "division by zero",
     "output_type": "error",
     "traceback": [
      "\u001b[0;31m---------------------------------------------------------------------------\u001b[0m",
      "\u001b[0;31mZeroDivisionError\u001b[0m                         Traceback (most recent call last)",
      "Cell \u001b[0;32mIn[1], line 4\u001b[0m\n\u001b[1;32m      1\u001b[0m \u001b[38;5;28;01mdef\u001b[39;00m \u001b[38;5;21mdivide\u001b[39m(x,y):\n\u001b[1;32m      2\u001b[0m     \u001b[38;5;28;01mreturn\u001b[39;00m x\u001b[38;5;241m/\u001b[39my\n\u001b[0;32m----> 4\u001b[0m divide(\u001b[38;5;241;43m5\u001b[39;49m\u001b[38;5;241;43m/\u001b[39;49m\u001b[38;5;241;43m0\u001b[39;49m)\n",
      "\u001b[0;31mZeroDivisionError\u001b[0m: division by zero"
     ]
    }
   ],
   "source": [
    "def divide(x,y):\n",
    "    return x/y\n",
    "\n",
    "divide(5/0)"
   ]
  },
  {
   "cell_type": "markdown",
   "id": "f3091d4c-7b53-4138-a21f-fd82aa4700a6",
   "metadata": {},
   "source": [
    "### Q3. Which Python statements are used to catch and handle exceptions? Explain with an example."
   ]
  },
  {
   "cell_type": "markdown",
   "id": "3bf23679-e8bc-4f14-bf8f-00c953748764",
   "metadata": {},
   "source": [
    "In python try and except statement or (block) are used to catch and handle exceptions"
   ]
  },
  {
   "cell_type": "code",
   "execution_count": 10,
   "id": "ca82b561-8f57-4421-b569-66f19205c9b1",
   "metadata": {},
   "outputs": [],
   "source": [
    "def divide2(x,y):\n",
    "    try:\n",
    "        result = x/y\n",
    "    except ZeroDivisionError as e:\n",
    "        print(\"You cannot divide a number by 0. \",e)\n",
    "        result =None\n",
    "    return result"
   ]
  },
  {
   "cell_type": "code",
   "execution_count": 12,
   "id": "7d37b1ae-4ea2-4b7d-913d-8b00ede56dd5",
   "metadata": {},
   "outputs": [
    {
     "name": "stdout",
     "output_type": "stream",
     "text": [
      "You cannot divide a number by 0.  division by zero\n"
     ]
    }
   ],
   "source": [
    "divide2(5,0)"
   ]
  },
  {
   "cell_type": "code",
   "execution_count": 13,
   "id": "d59ba61d-b8e1-4da2-922b-fda7318eeef8",
   "metadata": {},
   "outputs": [
    {
     "data": {
      "text/plain": [
       "5.0"
      ]
     },
     "execution_count": 13,
     "metadata": {},
     "output_type": "execute_result"
    }
   ],
   "source": [
    "divide2(25,5)"
   ]
  },
  {
   "cell_type": "markdown",
   "id": "e24cd94a-32bd-48f2-a059-4499c6809dff",
   "metadata": {},
   "source": [
    "### Q4. Explain with an example:\n",
    "a. try and else\n",
    "\n",
    "b. finally\n",
    "\n",
    "c. raise"
   ]
  },
  {
   "cell_type": "markdown",
   "id": "ceadd783-2fc2-4a16-a910-fd873239c04a",
   "metadata": {},
   "source": [
    "a. try and else is used to enclose code that might raise an exception. The else satatement is executed when there is no problem with the code and no exception is raised."
   ]
  },
  {
   "cell_type": "code",
   "execution_count": 14,
   "id": "272334df-2047-43ee-93f6-b5a6fc093d3c",
   "metadata": {},
   "outputs": [],
   "source": [
    "def divide3(x,y):\n",
    "    try:\n",
    "        result = x/y\n",
    "    except ZeroDivisionError as e:\n",
    "        print(\"You cannot divide a number by 0. \",e)\n",
    "        \n",
    "    else:\n",
    "        print(\"{} / {} = \".format(x,y),result)\n",
    "    "
   ]
  },
  {
   "cell_type": "code",
   "execution_count": 15,
   "id": "18f4a220-5969-43be-93b7-fa7a30113745",
   "metadata": {},
   "outputs": [
    {
     "name": "stdout",
     "output_type": "stream",
     "text": [
      "You cannot divide a number by 0.  division by zero\n"
     ]
    }
   ],
   "source": [
    "divide3(5,0)"
   ]
  },
  {
   "cell_type": "code",
   "execution_count": 16,
   "id": "04bd0ff5-d302-4a4d-96ac-7f56338ff23d",
   "metadata": {},
   "outputs": [
    {
     "name": "stdout",
     "output_type": "stream",
     "text": [
      "55 / 5 =  11.0\n"
     ]
    }
   ],
   "source": [
    "divide3(55,5)"
   ]
  },
  {
   "cell_type": "markdown",
   "id": "49a17fb5-cbc1-4d94-b309-92f085a25c03",
   "metadata": {},
   "source": [
    "b. finally is used to specify code that should be excecuted regardless of whether or not an exception is raised. It is often used to close files or connections."
   ]
  },
  {
   "cell_type": "code",
   "execution_count": 25,
   "id": "58ae06d3-460e-43de-809f-3a28deeec2ce",
   "metadata": {},
   "outputs": [],
   "source": [
    "def open_file(file_name, mode):\n",
    "    file = None\n",
    "    try:\n",
    "        file = open(file_name, mode)\n",
    "        data = file.read()\n",
    "    except FileNotFoundError as e:\n",
    "        print(\"File {} is not found. \".format(file_name), e)\n",
    "    finally:\n",
    "        if file is not None:\n",
    "            file.close()"
   ]
  },
  {
   "cell_type": "code",
   "execution_count": 26,
   "id": "589bafbc-3e58-40e5-83c1-fb86c20c8bb0",
   "metadata": {},
   "outputs": [
    {
     "name": "stdout",
     "output_type": "stream",
     "text": [
      "File text.txt is not found.  [Errno 2] No such file or directory: 'text.txt'\n"
     ]
    }
   ],
   "source": [
    "open_file('text.txt', 'r')"
   ]
  },
  {
   "cell_type": "markdown",
   "id": "ba8c351a-7cf2-40d0-9ffe-c9c6917144e8",
   "metadata": {},
   "source": [
    "c. raise is used to manually raise an exception in Python. You can use to raise built-in python exceptions or create your own custom exception(s)."
   ]
  },
  {
   "cell_type": "code",
   "execution_count": 12,
   "id": "1b073d7f-e352-49f5-b101-b232ac1f7a29",
   "metadata": {},
   "outputs": [
    {
     "name": "stdin",
     "output_type": "stream",
     "text": [
      "Enter your age:  155\n"
     ]
    },
    {
     "ename": "ValueError",
     "evalue": "155 years is too high.",
     "output_type": "error",
     "traceback": [
      "\u001b[0;31m---------------------------------------------------------------------------\u001b[0m",
      "\u001b[0;31mValueError\u001b[0m                                Traceback (most recent call last)",
      "Cell \u001b[0;32mIn[12], line 6\u001b[0m\n\u001b[1;32m      4\u001b[0m     \u001b[38;5;28;01mraise\u001b[39;00m \u001b[38;5;167;01mValueError\u001b[39;00m(\u001b[38;5;124m\"\u001b[39m\u001b[38;5;124mAge cannot be less than 0\u001b[39m\u001b[38;5;124m\"\u001b[39m,age)\n\u001b[1;32m      5\u001b[0m \u001b[38;5;28;01melif\u001b[39;00m age \u001b[38;5;241m>\u001b[39m \u001b[38;5;241m115\u001b[39m:\n\u001b[0;32m----> 6\u001b[0m     \u001b[38;5;28;01mraise\u001b[39;00m \u001b[38;5;167;01mValueError\u001b[39;00m(\u001b[38;5;124mf\u001b[39m\u001b[38;5;124m\"\u001b[39m\u001b[38;5;132;01m{\u001b[39;00mage\u001b[38;5;132;01m}\u001b[39;00m\u001b[38;5;124m years is too high.\u001b[39m\u001b[38;5;124m\"\u001b[39m)\n\u001b[1;32m      7\u001b[0m \u001b[38;5;28;01melse\u001b[39;00m:\n\u001b[1;32m      8\u001b[0m     \u001b[38;5;28mprint\u001b[39m(\u001b[38;5;124mf\u001b[39m\u001b[38;5;124m\"\u001b[39m\u001b[38;5;132;01m{\u001b[39;00mage\u001b[38;5;132;01m}\u001b[39;00m\u001b[38;5;124m is a valid age.\u001b[39m\u001b[38;5;124m\"\u001b[39m)\n",
      "\u001b[0;31mValueError\u001b[0m: 155 years is too high."
     ]
    }
   ],
   "source": [
    "age = int(input(\"Enter your age: \"))\n",
    "\n",
    "if age < 0:\n",
    "    raise ValueError(\"Age cannot be less than 0\",age)\n",
    "elif age > 115:\n",
    "    raise ValueError(f\"{age} years is too high.\")\n",
    "else:\n",
    "    print(f\"{age} is a valid age.\")\n",
    "    "
   ]
  },
  {
   "cell_type": "markdown",
   "id": "3e6abc0e-c4d9-4fa8-94e4-4130ec04a9e2",
   "metadata": {},
   "source": [
    "### Q5. What are Custom Exceptions in python? Why do we need Custom Exception? Expalin with an example."
   ]
  },
  {
   "cell_type": "markdown",
   "id": "21bd8888-4cdf-4627-90f4-def2287d61eb",
   "metadata": {},
   "source": [
    "Custom Exceptions in Python are are exception classes you create to handle specific kinds of exceptions in your code. It used to provide more meaningfull error message and better organize your own exception handling logic."
   ]
  },
  {
   "cell_type": "code",
   "execution_count": 7,
   "id": "823fa9d6-580f-425e-8b64-6620e452d2ef",
   "metadata": {},
   "outputs": [
    {
     "name": "stdin",
     "output_type": "stream",
     "text": [
      "Enter your age:  twenty seven\n"
     ]
    },
    {
     "name": "stdout",
     "output_type": "stream",
     "text": [
      "Age should be a valid real number:  invalid literal for int() with base 10: 'twenty seven'\n"
     ]
    }
   ],
   "source": [
    "\n",
    "\n",
    "try:\n",
    "  age = int(input(\"Enter your age: \"))\n",
    "except ValueError as e:\n",
    "    print(\"Age should be a valid real number: \",e)"
   ]
  },
  {
   "cell_type": "code",
   "execution_count": null,
   "id": "99599d24-5c1a-4aba-aa1e-e5225e17ceb5",
   "metadata": {},
   "outputs": [],
   "source": []
  },
  {
   "cell_type": "markdown",
   "id": "c61a2257-e56c-4734-a5aa-c41bcf2395be",
   "metadata": {},
   "source": [
    "### Q6. Create a custom exception class. Use this class to handle an exception."
   ]
  },
  {
   "cell_type": "code",
   "execution_count": 16,
   "id": "0a4a5c3c-e26b-47b9-b38d-0c1ef59fc259",
   "metadata": {},
   "outputs": [
    {
     "name": "stdin",
     "output_type": "stream",
     "text": [
      "Enter your age:  -55\n"
     ]
    },
    {
     "name": "stdout",
     "output_type": "stream",
     "text": [
      "Age cannot be less than 0:  -55\n"
     ]
    }
   ],
   "source": [
    "class negative_age_exception(Exception):\n",
    "    \n",
    "    def __init__(self, value):\n",
    "        self.value = value\n",
    "\n",
    " \n",
    "try:\n",
    "    age = int(input(\"Enter your age: \"))\n",
    "    if age < 0:\n",
    "        raise negative_age_exception(age)\n",
    "except negative_age_exception as e:\n",
    "    print(\"Age cannot be less than 0: \",e)\n",
    "except ValueError as e:\n",
    "    print(\"Please Enter a valid integer age number.\")\n",
    "else:\n",
    "    print(\"Your age is: \", age)"
   ]
  }
 ],
 "metadata": {
  "kernelspec": {
   "display_name": "Python 3 (ipykernel)",
   "language": "python",
   "name": "python3"
  },
  "language_info": {
   "codemirror_mode": {
    "name": "ipython",
    "version": 3
   },
   "file_extension": ".py",
   "mimetype": "text/x-python",
   "name": "python",
   "nbconvert_exporter": "python",
   "pygments_lexer": "ipython3",
   "version": "3.10.8"
  }
 },
 "nbformat": 4,
 "nbformat_minor": 5
}
