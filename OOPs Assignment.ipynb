{
 "cells": [
  {
   "cell_type": "markdown",
   "id": "2a48298d-36f6-4342-8b59-d1e8c31a0eb1",
   "metadata": {
    "tags": []
   },
   "source": [
    "# OOPs Assignment"
   ]
  },
  {
   "cell_type": "markdown",
   "id": "4288425e-8373-4427-8552-bf3806a03513",
   "metadata": {},
   "source": [
    "### Q1. Explain Class and Object with respect to Object-Oriented Programming. Give a suitable example."
   ]
  },
  {
   "cell_type": "markdown",
   "id": "5300d292-3d45-4dae-bf18-b23c8cfa64e2",
   "metadata": {},
   "source": [
    "A class is a blueprint for boject, it is used to define object's attribute(s) and behavior(s)"
   ]
  },
  {
   "cell_type": "markdown",
   "id": "0497d01e-0c95-469e-ab61-6deec2a5be62",
   "metadata": {},
   "source": [
    "Example: A car is the general name for objects that have 4 wheels with motors, can accomodate passenger(s) and be driven. However, we have different types of cars: sports car, suv, mini-van, etc... from differnts brands: Toyota, Honda, Jeep, Ford, Ferrari, etc... and these cars have different types of types of designs that also comes with differnt types of colors.\n",
    "\n",
    "In Object-Oriented Programming, a car will be the class as it defines what kind of object is considered a car, while \"white 2023 Toyta Camry\" is considered an object of car class because it is an instance of car (class) or something that meet the general requirements to become a car."
   ]
  },
  {
   "cell_type": "markdown",
   "id": "475b7e23-e6c8-43a8-8733-448e5eebb7ed",
   "metadata": {},
   "source": [
    "### Q2. Name the four pillars of OOPs."
   ]
  },
  {
   "cell_type": "markdown",
   "id": "73adc8f4-99e3-4277-afe3-2dd7455bf66a",
   "metadata": {},
   "source": [
    "1. Encapsulation\n",
    "2. Abstraction\n",
    "3. Inheritance\n",
    "4. Polymorphism"
   ]
  },
  {
   "cell_type": "markdown",
   "id": "a497705a-2a43-4b01-bacb-4635efef3ce8",
   "metadata": {},
   "source": [
    "### Q3. Explain why the __init__() function is used. Give a suitable example."
   ]
  },
  {
   "cell_type": "markdown",
   "id": "f9a66853-068c-4d66-8de0-fcdb8b8da846",
   "metadata": {},
   "source": [
    "init() is used to initialize object's attribute(s) or variables. It is similar to constructor in other programing languages"
   ]
  },
  {
   "cell_type": "code",
   "execution_count": 4,
   "id": "d2d90a1a-3b69-45b5-a6e6-36aceca0517e",
   "metadata": {},
   "outputs": [],
   "source": [
    "class student:\n",
    "    def __init__(self, name, email):\n",
    "        print(f'Name: {name} \\nEmail: {email}')"
   ]
  },
  {
   "cell_type": "code",
   "execution_count": 5,
   "id": "bb09f929-21ac-4fc9-afb8-08f0420ef4bf",
   "metadata": {},
   "outputs": [
    {
     "name": "stdout",
     "output_type": "stream",
     "text": [
      "Name: John Doe \n",
      "Email: example@gmail.com\n"
     ]
    }
   ],
   "source": [
    "student1 = student('John Doe', 'example@gmail.com')"
   ]
  },
  {
   "cell_type": "markdown",
   "id": "cc3b9052-5509-45f5-8ae7-b971cb290505",
   "metadata": {},
   "source": [
    "### Q4. Why self is used in OOPs?"
   ]
  },
  {
   "cell_type": "markdown",
   "id": "ac6c680c-7891-451b-a5e2-522e9923e832",
   "metadata": {},
   "source": [
    "self is used in OOPs to reference instance of class"
   ]
  },
  {
   "cell_type": "markdown",
   "id": "8fd5107c-d7fd-4702-ac39-d664eb1a5136",
   "metadata": {},
   "source": [
    "### Q5. What is inheritance? Give an example for each type of inheritance."
   ]
  },
  {
   "cell_type": "markdown",
   "id": "7bbfd58a-951e-48d9-8eea-9108eb16faa8",
   "metadata": {},
   "source": [
    "Inheritance is the process of a class (child class) inheritting properties of base class or parent class."
   ]
  },
  {
   "cell_type": "code",
   "execution_count": 6,
   "id": "f63e6a79-9d47-4625-82d1-ea4d4c6d31c5",
   "metadata": {},
   "outputs": [],
   "source": [
    "# 1. Single Inheritance\n",
    "class parent:\n",
    "    def name_info(self, name, age, email):\n",
    "        self.name = name\n",
    "        self.age = age\n",
    "        self.email = email\n",
    "        \n",
    "        return self.name, self.age, self.email\n",
    "    \n",
    "class child1(parent):\n",
    "    def work_info(self, title, company, company_phone):\n",
    "        self.title = title\n",
    "        self.company = company\n",
    "        self.company_phone = company_phone\n",
    "        \n",
    "        return self.title, self.company, self.company_phone\n",
    "    \n",
    "class child2(parent):\n",
    "    def school_info(self, school_name, school_phone):\n",
    "        self.school_name = school_name\n",
    "        self.school_phone = school_phone\n",
    "        \n",
    "        return self.school_name, self.school_phone"
   ]
  },
  {
   "cell_type": "code",
   "execution_count": 7,
   "id": "fef4fe1f-23f4-4910-991d-e7a8bfb477cf",
   "metadata": {},
   "outputs": [],
   "source": [
    "child_obj = child2()"
   ]
  },
  {
   "cell_type": "code",
   "execution_count": 8,
   "id": "13b98f9c-0f5f-44d2-b17d-d3f29d7e3f04",
   "metadata": {},
   "outputs": [
    {
     "data": {
      "text/plain": [
       "('John Doe', 57, 'example_email@gmail.com')"
      ]
     },
     "execution_count": 8,
     "metadata": {},
     "output_type": "execute_result"
    }
   ],
   "source": [
    "child_obj.name_info('John Doe', 57, 'example_email@gmail.com')"
   ]
  },
  {
   "cell_type": "code",
   "execution_count": 9,
   "id": "83884973-215c-412d-98be-2c210e78b0b0",
   "metadata": {},
   "outputs": [
    {
     "data": {
      "text/plain": [
       "('First University', 36699544)"
      ]
     },
     "execution_count": 9,
     "metadata": {},
     "output_type": "execute_result"
    }
   ],
   "source": [
    "child_obj.school_info(\"First University\", 36699544)"
   ]
  },
  {
   "cell_type": "code",
   "execution_count": 16,
   "id": "b0f975d3-d939-4ed0-bc49-2ac324a778b1",
   "metadata": {},
   "outputs": [],
   "source": [
    "# 2. Multilevel Inheritance\n",
    "class parent2:\n",
    "    def name_info(self, name, age, email):\n",
    "        self.name = name\n",
    "        self.age = age\n",
    "        self.email = email\n",
    "        \n",
    "        return self.name, self.age, self.email\n",
    "    \n",
    "class child1a(parent2):\n",
    "    def work_info(self, title, company, company_phone):\n",
    "        self.title = title\n",
    "        self.company = company\n",
    "        self.company_phone = company_phone\n",
    "        \n",
    "        return self.title, self.company, self.company_phone\n",
    "    \n",
    "class child2a:\n",
    "    def school_info(self, school_name, school_phone):\n",
    "        self.school_name = school_name\n",
    "        self.school_phone = school_phone\n",
    "        \n",
    "        return self.school_name, self.school_phone\n",
    "\n",
    "class child3(child1a, child2a):\n",
    "    pass"
   ]
  },
  {
   "cell_type": "code",
   "execution_count": 17,
   "id": "0db374f3-c02c-4f55-9c3b-59386558377f",
   "metadata": {},
   "outputs": [],
   "source": [
    "obj_child2 = child3()"
   ]
  },
  {
   "cell_type": "code",
   "execution_count": 18,
   "id": "cb340a29-3e18-4725-8144-85cd93f9da23",
   "metadata": {},
   "outputs": [
    {
     "data": {
      "text/plain": [
       "('Mohamed', 27, 'example25email@gmail.com')"
      ]
     },
     "execution_count": 18,
     "metadata": {},
     "output_type": "execute_result"
    }
   ],
   "source": [
    "obj_child2.name_info(\"Mohamed\", 27, 'example25email@gmail.com')"
   ]
  },
  {
   "cell_type": "code",
   "execution_count": 19,
   "id": "a049aea5-b4f3-4f9f-973d-749cec079906",
   "metadata": {},
   "outputs": [
    {
     "data": {
      "text/plain": [
       "('Second University', 131564851)"
      ]
     },
     "execution_count": 19,
     "metadata": {},
     "output_type": "execute_result"
    }
   ],
   "source": [
    "obj_child2.school_info(\"Second University\", 131564851)"
   ]
  },
  {
   "cell_type": "code",
   "execution_count": 20,
   "id": "3b7110cf-4bb7-46a3-a649-4caf844b9edb",
   "metadata": {},
   "outputs": [],
   "source": [
    "# 3. Multiple Inheritance\n",
    "class parent_3:\n",
    "    def name_info(self, name, age, email):\n",
    "        self.name = name\n",
    "        self.age = age\n",
    "        self.email = email\n",
    "        \n",
    "        return self.name, self.age, self.email\n",
    "    \n",
    "class child_3a:\n",
    "    def work_info(self, title, company, company_phone):\n",
    "        self.title = title\n",
    "        self.company = company\n",
    "        self.company_phone = company_phone\n",
    "        \n",
    "        return self.title, self.company, self.company_phone\n",
    "\n",
    "class child_3b(parent_3, child_3a):\n",
    "    pass"
   ]
  },
  {
   "cell_type": "code",
   "execution_count": 21,
   "id": "6d74305d-1ed9-4256-ab8c-4de0c83c4a31",
   "metadata": {},
   "outputs": [],
   "source": [
    "obj_child3 = child_3b()"
   ]
  },
  {
   "cell_type": "code",
   "execution_count": 22,
   "id": "053436a5-d7a5-4c85-b3a5-f75ac0b8d033",
   "metadata": {},
   "outputs": [
    {
     "data": {
      "text/plain": [
       "('John Doe', 57, 'example_email@gmail.com')"
      ]
     },
     "execution_count": 22,
     "metadata": {},
     "output_type": "execute_result"
    }
   ],
   "source": [
    "obj_child3.name_info('John Doe', 57, 'example_email@gmail.com')"
   ]
  },
  {
   "cell_type": "code",
   "execution_count": 24,
   "id": "7d0a582c-b40d-4a18-b3d4-8db5bcf2a27a",
   "metadata": {},
   "outputs": [
    {
     "data": {
      "text/plain": [
       "('Data Science', 'First Company', 165423236)"
      ]
     },
     "execution_count": 24,
     "metadata": {},
     "output_type": "execute_result"
    }
   ],
   "source": [
    "obj_child3.work_info(\"Data Science\",\"First Company\", 165423236)"
   ]
  },
  {
   "cell_type": "code",
   "execution_count": 25,
   "id": "9a401630-f6c2-4649-b61a-7fe60cf4bda3",
   "metadata": {},
   "outputs": [],
   "source": [
    "# 4. Hierachical Inheritance\n",
    "class parent_4:\n",
    "    def name_info(self, name, age, email):\n",
    "        self.name = name\n",
    "        self.age = age\n",
    "        self.email = email\n",
    "        \n",
    "        return self.name, self.age, self.email\n",
    "    \n",
    "class child_4a(parent_4):\n",
    "    def work_info(self, title, company, company_phone):\n",
    "        self.title = title\n",
    "        self.company = company\n",
    "        self.company_phone = company_phone\n",
    "        \n",
    "        return self.title, self.company, self.company_phone\n",
    "\n",
    "class child_4b(parent_4):\n",
    "    pass"
   ]
  },
  {
   "cell_type": "code",
   "execution_count": 26,
   "id": "002f99ad-0aab-40f4-a1a0-1f9d01564053",
   "metadata": {},
   "outputs": [],
   "source": [
    "obj_child_4a = child_4a()"
   ]
  },
  {
   "cell_type": "code",
   "execution_count": 27,
   "id": "35b793c8-453a-41be-b1a5-d6cfab1e9590",
   "metadata": {},
   "outputs": [
    {
     "data": {
      "text/plain": [
       "('Mohamed', 27, 'example25email@gmail.com')"
      ]
     },
     "execution_count": 27,
     "metadata": {},
     "output_type": "execute_result"
    }
   ],
   "source": [
    "obj_child_4a.name_info(\"Mohamed\", 27, 'example25email@gmail.com')"
   ]
  },
  {
   "cell_type": "code",
   "execution_count": 28,
   "id": "05e474db-16a8-4412-9eb1-79d98aea0520",
   "metadata": {},
   "outputs": [],
   "source": [
    "obj_child_4b = child_4b()"
   ]
  },
  {
   "cell_type": "code",
   "execution_count": 29,
   "id": "6a13a707-16e7-42e4-8dce-91cf0cb047b2",
   "metadata": {},
   "outputs": [
    {
     "data": {
      "text/plain": [
       "('Mohamed', 37, 'example25email@gmail.com')"
      ]
     },
     "execution_count": 29,
     "metadata": {},
     "output_type": "execute_result"
    }
   ],
   "source": [
    "obj_child_4b.name_info(\"Mohamed\", 37, 'example25email@gmail.com')"
   ]
  },
  {
   "cell_type": "code",
   "execution_count": 31,
   "id": "557c9450-6e7c-487f-9604-4e1437efd4c3",
   "metadata": {},
   "outputs": [],
   "source": [
    "# 5. Hybrid Inheritance\n",
    "class parent_5:\n",
    "    def name_info(self, name, age, email):\n",
    "        self.name = name\n",
    "        self.age = age\n",
    "        self.email = email\n",
    "        \n",
    "        return self.name, self.age, self.email\n",
    "    \n",
    "class child_5a(parent_4):\n",
    "    def work_info(self, title, company, company_phone):\n",
    "        self.title = title\n",
    "        self.company = company\n",
    "        self.company_phone = company_phone\n",
    "        \n",
    "        return self.title, self.company, self.company_phone\n",
    "\n",
    "class child_5b(parent_4):\n",
    "    def hello_world(self):\n",
    "        print(\"Hello World!\")\n",
    "\n",
    "class child_5c(child_5a, child_5b):\n",
    "    pass "
   ]
  },
  {
   "cell_type": "code",
   "execution_count": 32,
   "id": "1f8a81f1-1e6e-4fd0-8ef0-8b4e3bf8c831",
   "metadata": {},
   "outputs": [],
   "source": [
    "obj_child_5 = child_5c()"
   ]
  },
  {
   "cell_type": "code",
   "execution_count": 33,
   "id": "ab2223b4-1de8-44d3-b127-9fc0af745d6a",
   "metadata": {},
   "outputs": [
    {
     "data": {
      "text/plain": [
       "('John Doe', 45, 'example_email123@gmail.com')"
      ]
     },
     "execution_count": 33,
     "metadata": {},
     "output_type": "execute_result"
    }
   ],
   "source": [
    "obj_child_5.name_info('John Doe', 45, 'example_email123@gmail.com')"
   ]
  },
  {
   "cell_type": "code",
   "execution_count": null,
   "id": "3f9bf6c4-7280-4025-82f1-c8f226629383",
   "metadata": {},
   "outputs": [],
   "source": [
    "obj_child_5.name_info('John Doe', 45, 'example_email123@gmail.com')"
   ]
  }
 ],
 "metadata": {
  "kernelspec": {
   "display_name": "Python 3 (ipykernel)",
   "language": "python",
   "name": "python3"
  },
  "language_info": {
   "codemirror_mode": {
    "name": "ipython",
    "version": 3
   },
   "file_extension": ".py",
   "mimetype": "text/x-python",
   "name": "python",
   "nbconvert_exporter": "python",
   "pygments_lexer": "ipython3",
   "version": "3.9.13"
  }
 },
 "nbformat": 4,
 "nbformat_minor": 5
}
