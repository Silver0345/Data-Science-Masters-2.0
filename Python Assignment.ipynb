{
 "cells": [
  {
   "cell_type": "markdown",
   "id": "c3b28f59-dd84-43cc-9c7d-ade983270b7d",
   "metadata": {},
   "source": [
    "# Python Assignment"
   ]
  },
  {
   "cell_type": "markdown",
   "id": "81fbe950-9c68-46bd-92d6-cdbe615a5518",
   "metadata": {},
   "source": [
    "### Q1. Create a python program to sort the given list of tuples based on integer value using a lambda function. \n",
    "\n",
    "[('Sachin Tendulkar', 34357), ('Ricky Ponting', 27483), ('Jack Kallis', 25534), ('Virat Kohli', 24936)]"
   ]
  },
  {
   "cell_type": "code",
   "execution_count": 8,
   "id": "06f0118b-91f4-4976-987a-db38e501e630",
   "metadata": {},
   "outputs": [
    {
     "data": {
      "text/plain": [
       "[('Sachin Tendulkar', 34357),\n",
       " ('Ricky Ponting', 27483),\n",
       " ('Jack Kallis', 25534),\n",
       " ('Virat Kohli', 24936)]"
      ]
     },
     "execution_count": 8,
     "metadata": {},
     "output_type": "execute_result"
    }
   ],
   "source": [
    "lst1 = [('Sachin Tendulkar', 34357), ('Ricky Ponting', 27483), ('Jack Kallis', 25534), ('Virat Kohli', 24936)]\n",
    "lst1"
   ]
  },
  {
   "cell_type": "code",
   "execution_count": 42,
   "id": "bf5a09e1-608e-47dc-9651-d82aafb72600",
   "metadata": {},
   "outputs": [
    {
     "data": {
      "text/plain": [
       "[('Virat Kohli', 24936),\n",
       " ('Jack Kallis', 25534),\n",
       " ('Ricky Ponting', 27483),\n",
       " ('Sachin Tendulkar', 34357)]"
      ]
     },
     "execution_count": 42,
     "metadata": {},
     "output_type": "execute_result"
    }
   ],
   "source": [
    "new_list = list(sorted(lst1, key=lambda x: x[1]))\n",
    "new_list"
   ]
  },
  {
   "cell_type": "markdown",
   "id": "d73cdb0f-3443-42ea-99d7-4fd4615848ad",
   "metadata": {
    "tags": []
   },
   "source": [
    "### Q2. Write a Python Program to find the squares of all the numbers in the given list of integers using lambda and map functions.\n",
    "[1, 2, 3, 4, 5, 6, 7, 8, 9, 10]"
   ]
  },
  {
   "cell_type": "code",
   "execution_count": 43,
   "id": "25ab6db4-7cad-4ad1-abff-7564b04b3acd",
   "metadata": {},
   "outputs": [],
   "source": [
    "lst2 = [1, 2, 3, 4, 5, 6, 7, 8, 9, 10]"
   ]
  },
  {
   "cell_type": "code",
   "execution_count": 49,
   "id": "eb865fcc-4d58-4dc6-8379-1c52696e488c",
   "metadata": {},
   "outputs": [],
   "source": [
    "sqr = map(lambda x: x**2, lst2)"
   ]
  },
  {
   "cell_type": "code",
   "execution_count": 50,
   "id": "74a64652-b397-4af6-8beb-542e18b870db",
   "metadata": {},
   "outputs": [
    {
     "name": "stdout",
     "output_type": "stream",
     "text": [
      "1\n",
      "4\n",
      "9\n",
      "16\n",
      "25\n",
      "36\n",
      "49\n",
      "64\n",
      "81\n",
      "100\n"
     ]
    }
   ],
   "source": [
    "for i in sqr:\n",
    "    print(i)"
   ]
  },
  {
   "cell_type": "markdown",
   "id": "8117d34d-fa87-422e-8017-2b5eb734a46a",
   "metadata": {},
   "source": [
    "### Q3. Write a python program to convert the given list of integers into a tuple of strings. Use map and lambda functions\n",
    "Given String: [1, 2, 3, 4, 5, 6, 7, 8, 9, 10]\n",
    "\n",
    "Expected output: ('1', '2', '3', '4', '5', '6', '7', '8', '9', '10')\n"
   ]
  },
  {
   "cell_type": "code",
   "execution_count": 63,
   "id": "0cdac4e4-df9c-41df-904b-0dcf5878baec",
   "metadata": {},
   "outputs": [
    {
     "data": {
      "text/plain": [
       "[1, 2, 3, 4, 5, 6, 7, 8, 9, 10]"
      ]
     },
     "execution_count": 63,
     "metadata": {},
     "output_type": "execute_result"
    }
   ],
   "source": [
    "lst3 = [1, 2, 3, 4, 5, 6, 7, 8, 9, 10]\n",
    "lst3"
   ]
  },
  {
   "cell_type": "code",
   "execution_count": 64,
   "id": "7dfa9f26-619a-4c99-884d-d52f18e18d0f",
   "metadata": {},
   "outputs": [],
   "source": [
    "st1= tuple(map(lambda s: str(s), lst3))"
   ]
  },
  {
   "cell_type": "code",
   "execution_count": 65,
   "id": "8a9e65d2-037c-45e2-99d5-91e63ee64703",
   "metadata": {},
   "outputs": [
    {
     "data": {
      "text/plain": [
       "('1', '2', '3', '4', '5', '6', '7', '8', '9', '10')"
      ]
     },
     "execution_count": 65,
     "metadata": {},
     "output_type": "execute_result"
    }
   ],
   "source": [
    "st1"
   ]
  },
  {
   "cell_type": "markdown",
   "id": "1e3e4978-db79-4709-b1dd-f90c7d9dd739",
   "metadata": {},
   "source": [
    "### Q4.  Write a python program using reduce function to compute the product of a list containing numbers from 1 to 25."
   ]
  },
  {
   "cell_type": "code",
   "execution_count": 66,
   "id": "664bf435-377f-4b1a-8441-7753565b247e",
   "metadata": {},
   "outputs": [],
   "source": [
    "from functools import reduce"
   ]
  },
  {
   "cell_type": "code",
   "execution_count": 68,
   "id": "396bc2ae-0cac-48b3-99e4-c703d97341ed",
   "metadata": {},
   "outputs": [],
   "source": [
    "lst4 = list(range(1,25))"
   ]
  },
  {
   "cell_type": "code",
   "execution_count": 72,
   "id": "afa8aea4-3586-4ba7-a20a-4e68dc5314f6",
   "metadata": {},
   "outputs": [],
   "source": [
    "prod = reduce(lambda x,y: x*y, lst4)"
   ]
  },
  {
   "cell_type": "code",
   "execution_count": 73,
   "id": "12d1a552-ece0-4cd3-b24f-008b8a5f9d88",
   "metadata": {},
   "outputs": [
    {
     "data": {
      "text/plain": [
       "620448401733239439360000"
      ]
     },
     "execution_count": 73,
     "metadata": {},
     "output_type": "execute_result"
    }
   ],
   "source": [
    "prod"
   ]
  },
  {
   "cell_type": "markdown",
   "id": "71a0d05e-6fff-4b73-8908-3a883b16c37d",
   "metadata": {},
   "source": [
    "### Q5. Write a python program to filter the numbers in a given list that are divisible by 2 and 3 using the filter function.\n",
    "[2, 3, 6, 9, 27, 60, 90, 120, 55, 46]"
   ]
  },
  {
   "cell_type": "code",
   "execution_count": 74,
   "id": "cb0626b9-f0ae-47a5-a38c-0ebd8908efe8",
   "metadata": {},
   "outputs": [
    {
     "data": {
      "text/plain": [
       "[2, 3, 6, 9, 27, 60, 90, 120, 55, 46]"
      ]
     },
     "execution_count": 74,
     "metadata": {},
     "output_type": "execute_result"
    }
   ],
   "source": [
    "lst5 = [2, 3, 6, 9, 27, 60, 90, 120, 55, 46]\n",
    "lst5"
   ]
  },
  {
   "cell_type": "code",
   "execution_count": 83,
   "id": "b16c381d-722e-4857-b93d-8bcbdd668aff",
   "metadata": {},
   "outputs": [
    {
     "data": {
      "text/plain": [
       "[6, 60, 90, 120]"
      ]
     },
     "execution_count": 83,
     "metadata": {},
     "output_type": "execute_result"
    }
   ],
   "source": [
    "div_numb = list(filter(lambda x: x%2 ==0 and x%3 ==0, lst5))\n",
    "div_numb"
   ]
  },
  {
   "cell_type": "code",
   "execution_count": 84,
   "id": "1749527e-62e2-4340-8ea8-20ed824f09d5",
   "metadata": {},
   "outputs": [
    {
     "name": "stdout",
     "output_type": "stream",
     "text": [
      "6\n",
      "60\n",
      "90\n",
      "120\n"
     ]
    }
   ],
   "source": [
    "for i in div_numb:\n",
    "    print(i)"
   ]
  },
  {
   "cell_type": "markdown",
   "id": "c2701c08-16b4-4f6e-b8dd-0ddab451e465",
   "metadata": {},
   "source": [
    "### Q6. Write a python program to find palindromes in the given list of strings using lambda and filter function.\n",
    "['python', 'php', 'aba', 'radar', 'level']"
   ]
  },
  {
   "cell_type": "code",
   "execution_count": 79,
   "id": "907cd89d-dcfe-472f-af9f-29d72c9a8a0e",
   "metadata": {},
   "outputs": [],
   "source": [
    "lst6 = ['python', 'php', 'aba', 'radar', 'level']"
   ]
  },
  {
   "cell_type": "code",
   "execution_count": 81,
   "id": "cbd7c9be-3ee4-4380-be3f-c4a05b3a0921",
   "metadata": {},
   "outputs": [],
   "source": [
    "palindromes = filter(lambda s: s== s[::-1], lst6)"
   ]
  },
  {
   "cell_type": "code",
   "execution_count": 82,
   "id": "51a9db27-fcfc-4726-9412-4663522adc01",
   "metadata": {},
   "outputs": [
    {
     "name": "stdout",
     "output_type": "stream",
     "text": [
      "php\n",
      "aba\n",
      "radar\n",
      "level\n"
     ]
    }
   ],
   "source": [
    "for item in palindromes:\n",
    "    print(item)"
   ]
  },
  {
   "cell_type": "code",
   "execution_count": null,
   "id": "4fcd6f23-8055-474a-85d3-9c31ed512823",
   "metadata": {},
   "outputs": [],
   "source": []
  }
 ],
 "metadata": {
  "kernelspec": {
   "display_name": "Python 3 (ipykernel)",
   "language": "python",
   "name": "python3"
  },
  "language_info": {
   "codemirror_mode": {
    "name": "ipython",
    "version": 3
   },
   "file_extension": ".py",
   "mimetype": "text/x-python",
   "name": "python",
   "nbconvert_exporter": "python",
   "pygments_lexer": "ipython3",
   "version": "3.9.13"
  }
 },
 "nbformat": 4,
 "nbformat_minor": 5
}
