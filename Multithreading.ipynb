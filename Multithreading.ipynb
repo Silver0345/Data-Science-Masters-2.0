{
 "cells": [
  {
   "cell_type": "markdown",
   "id": "fe84ccc2-2238-4bcb-8ed5-13ead7158a7f",
   "metadata": {},
   "source": [
    "# Multithreading"
   ]
  },
  {
   "cell_type": "markdown",
   "id": "033c717c-2e3b-4c5a-b449-0d18e708fda7",
   "metadata": {},
   "source": [
    "### Q1. What is multithreading in python? Why is it used? Name the module used to handle threads in python."
   ]
  },
  {
   "cell_type": "markdown",
   "id": "d9a6d0cd-e258-4801-93a5-955e61fa9874",
   "metadata": {},
   "source": [
    "Multithreading allows multiple threads to run simultaneously within the same proccess."
   ]
  },
  {
   "cell_type": "markdown",
   "id": "c7b84a7f-ed84-45bf-9725-03db05efab88",
   "metadata": {},
   "source": [
    "Multithreading is used to enable the concurrent execution of function or tasks within a single process."
   ]
  },
  {
   "cell_type": "markdown",
   "id": "66542f37-ef6a-44ee-94de-57c69c704082",
   "metadata": {},
   "source": [
    "'threading' module is used to handle threads in python."
   ]
  },
  {
   "cell_type": "markdown",
   "id": "337527ca-23bf-474a-8193-900feb2c6694",
   "metadata": {},
   "source": [
    "### Q2. Why threading module used? Write the use of the following functions:\n",
    "\n",
    "1. activeCount()\n",
    "2. currentThread()\n",
    "3. enumerate()"
   ]
  },
  {
   "cell_type": "markdown",
   "id": "2d34bd44-23e9-4e4c-bf3c-77beba144cbc",
   "metadata": {},
   "source": [
    "Threading module is used for working with threads in python, it enable the use of multithreading.\n",
    "\n",
    "activeCount(): is a function that returns the number of the active Threads objects.\n",
    "\n",
    "currentThread(): is a function that returns the current Thread object, it allows you to obtain information the thread that is currently being execute.\n",
    "\n",
    "enumerate(): is a function that returns the list of all the Thread objects that are currently active in the program."
   ]
  },
  {
   "cell_type": "markdown",
   "id": "254185c3-e4e3-4dff-bf9e-eaef94502d9c",
   "metadata": {},
   "source": [
    "### Q3 Explain the following functions:\n",
    "1. run()\n",
    "2. start()\n",
    "3. join()\n",
    "4. isAlive()"
   ]
  },
  {
   "cell_type": "markdown",
   "id": "e640a816-8607-41a8-9cd5-ceaa48e8239e",
   "metadata": {},
   "source": [
    "run(): is a method that is meant to be overridden in a custom thread class that inherits from 'threading.Thread'.\n",
    "\n",
    "start(): is a method used to initiate the execution of a thread by its 'run()' method.\n",
    "\n",
    "join(): is a method used to wait for a thread to complete its execution before continuing with the main thread or other tasks.\n",
    "\n",
    "isAlive(): is a method used to check if a thread is currently running or it has completed its execution."
   ]
  },
  {
   "cell_type": "markdown",
   "id": "7bc54c81-c451-4525-9081-45ff05c119e3",
   "metadata": {},
   "source": [
    "### Q4. Write a python program to create two threads. Thread one must print the list of squares and thread two mut print the list of cubes."
   ]
  },
  {
   "cell_type": "code",
   "execution_count": 18,
   "id": "eba94961-4506-4b3c-8f9c-6bfcc94ab5c6",
   "metadata": {},
   "outputs": [],
   "source": [
    "import threading\n",
    "\n",
    "def square(n):\n",
    "   return n**2\n",
    "\n",
    "def cube(n):\n",
    "    return n**3\n",
    "\n",
    "thred1 = [threading.Thread(target=square, args=(i,)) for i in [3,4,5,6,7,87,8,9] ]\n",
    "\n",
    "thred2 = [threading.Thread(target=cube, args=(i,)) for i in [3,4,5,6,7,87,8,9] ]"
   ]
  },
  {
   "cell_type": "code",
   "execution_count": 19,
   "id": "ce40a0e9-bc24-4a8b-bb59-65db08f94f0c",
   "metadata": {},
   "outputs": [],
   "source": [
    "for t1 in thred1:\n",
    "    t1.start()\n",
    "\n",
    "for t2 in thred2:\n",
    "    t2.start()"
   ]
  },
  {
   "cell_type": "code",
   "execution_count": 20,
   "id": "612f6dc5-fa99-418d-ac8c-cc1c542a6048",
   "metadata": {},
   "outputs": [],
   "source": [
    "for t1 in thred1:\n",
    "    t1.join()\n",
    "\n",
    "for t2 in thred2:\n",
    "    t2.join()"
   ]
  },
  {
   "cell_type": "markdown",
   "id": "d61bc20c-8537-483a-bc5a-519e2e4b1b6d",
   "metadata": {},
   "source": [
    "### Q5. State advantages and disadventages of multithreading"
   ]
  },
  {
   "cell_type": "markdown",
   "id": "70bc5937-9dcc-47aa-a13c-b97ece02a627",
   "metadata": {},
   "source": [
    "**Advantages of multithreading:**\n",
    "- Concurrency: multiple threads running within a single process at the same time.\n",
    "- Resources Sharing: threads within the same process are able to share the same memory space.\n",
    "- Responsiveness: mutithreading can improve the responisveness of application by allowing threads to run in the background without blocking the main thead.\n",
    "\n",
    "**Disadvantages of multithreading:**\n",
    "- Complexity: multithreading code can be challenging to write and debug due to potential issues like race conditions, deadlocks, and thread synchronization.\n",
    "\n",
    "- Limited Scalability: multithreading may not be the best choice for all scenerios as some applications benefit more from multiprocessing instead.\n",
    "- Platform-Dependent behavior: multithreading behavior can vary accross different operating sytems and Python implementations.\n",
    "- Thread Safety: it requires carefull design to ensure that shared data and resources are accessed safely by multiple threads."
   ]
  },
  {
   "cell_type": "markdown",
   "id": "400be3b3-a018-4ef1-bb0d-b135f9e109bc",
   "metadata": {},
   "source": [
    "### Q6. Explain deadlocks and race conditions."
   ]
  },
  {
   "cell_type": "markdown",
   "id": "4adbf186-f8e0-481a-9178-0b47642e4f32",
   "metadata": {},
   "source": [
    "**Deadlocks** occurs when two or more threads are unable to proceed because each is waiting for the other(s) to release a resource.\n",
    "\n",
    "**Race conditions** occurs when the behavior fo a program depends on the relative timing or the order of execution of multiple threads."
   ]
  }
 ],
 "metadata": {
  "kernelspec": {
   "display_name": "Python 3 (ipykernel)",
   "language": "python",
   "name": "python3"
  },
  "language_info": {
   "codemirror_mode": {
    "name": "ipython",
    "version": 3
   },
   "file_extension": ".py",
   "mimetype": "text/x-python",
   "name": "python",
   "nbconvert_exporter": "python",
   "pygments_lexer": "ipython3",
   "version": "3.10.8"
  }
 },
 "nbformat": 4,
 "nbformat_minor": 5
}
