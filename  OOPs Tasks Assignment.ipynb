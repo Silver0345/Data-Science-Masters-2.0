{
 "cells": [
  {
   "cell_type": "markdown",
   "id": "f2786ea3-1f0a-40ba-88f2-865921646208",
   "metadata": {},
   "source": [
    "#  OOPs Tasks Assignment"
   ]
  },
  {
   "cell_type": "markdown",
   "id": "fccb7790-c28c-4210-870a-8a548e79597d",
   "metadata": {},
   "source": [
    "### Q1, Create a vehicle class with an init method having instance variables as name_of_vehicle, max_speed and average_of_vehicle. "
   ]
  },
  {
   "cell_type": "code",
   "execution_count": 24,
   "id": "bde21b1d-228a-41d0-ba76-f3c2d2ea9b92",
   "metadata": {},
   "outputs": [],
   "source": [
    "class vehicle:\n",
    "    def __init__(self,name_of_vehicle, max_speed, average_of_vehicle):\n",
    "        self.name_of_vehicle = name_of_vehicle\n",
    "        self.max_speed = max_speed\n",
    "        self.average_of_vehicle = average_of_vehicle\n",
    "    "
   ]
  },
  {
   "cell_type": "code",
   "execution_count": 14,
   "id": "46b4b76a-1c8b-4ffe-88cc-6707c971cc33",
   "metadata": {},
   "outputs": [],
   "source": [
    "car_obj = vehicle(\"Toyota Camry\", 260, 55)"
   ]
  },
  {
   "cell_type": "code",
   "execution_count": 15,
   "id": "a794905a-fe7e-4448-b269-4d4d900c56d1",
   "metadata": {},
   "outputs": [
    {
     "data": {
      "text/plain": [
       "'Toyota Camry'"
      ]
     },
     "execution_count": 15,
     "metadata": {},
     "output_type": "execute_result"
    }
   ],
   "source": [
    "car_obj.name_of_vehicle"
   ]
  },
  {
   "cell_type": "code",
   "execution_count": 16,
   "id": "c0d4f9aa-7452-47f2-9689-c3a315bb1c4e",
   "metadata": {},
   "outputs": [
    {
     "data": {
      "text/plain": [
       "260"
      ]
     },
     "execution_count": 16,
     "metadata": {},
     "output_type": "execute_result"
    }
   ],
   "source": [
    "car_obj.max_speed"
   ]
  },
  {
   "cell_type": "markdown",
   "id": "c2f89bc5-22e9-4e1f-ab79-7cfd4e08456f",
   "metadata": {},
   "source": [
    "### Q2.  Create a child class car from the vehicle class created in Que 1, which will inherit the vehicle class. Create a method named seating_capacity which takes capacity as an argument and returns the name of the vehicle and its seating capacity."
   ]
  },
  {
   "cell_type": "code",
   "execution_count": 35,
   "id": "9a3e45a0-3a35-46f5-b0ea-c4ff458abec4",
   "metadata": {},
   "outputs": [],
   "source": [
    "class car(vehicle):\n",
    "    def seating_capacity(self, capacity):\n",
    "        self.capacity = capacity\n",
    "        \n",
    "        return self.name_of_vehicle, self.capacity"
   ]
  },
  {
   "cell_type": "code",
   "execution_count": 36,
   "id": "883f81c7-a48c-4ebf-9a46-14bd79ba8a5f",
   "metadata": {},
   "outputs": [],
   "source": [
    "obj_vehicle = vehicle(\"Honda Pilot\", 260, 55)"
   ]
  },
  {
   "cell_type": "code",
   "execution_count": 37,
   "id": "4ab756eb-fb1f-479e-85f5-ca0402a2bf33",
   "metadata": {},
   "outputs": [
    {
     "data": {
      "text/plain": [
       "'Honda Pilot'"
      ]
     },
     "execution_count": 37,
     "metadata": {},
     "output_type": "execute_result"
    }
   ],
   "source": [
    "obj_vehicle.name_of_vehicle"
   ]
  },
  {
   "cell_type": "code",
   "execution_count": 38,
   "id": "4d475ed0-feba-4264-ba1f-04a9c0116fed",
   "metadata": {},
   "outputs": [],
   "source": [
    "obj_car = car(\"Honda Pilot\", 260, 55)"
   ]
  },
  {
   "cell_type": "code",
   "execution_count": 39,
   "id": "f9855f96-0e59-49a4-a3b7-975d424f92c5",
   "metadata": {},
   "outputs": [
    {
     "data": {
      "text/plain": [
       "('Honda Pilot', 7)"
      ]
     },
     "execution_count": 39,
     "metadata": {},
     "output_type": "execute_result"
    }
   ],
   "source": [
    "obj_car.seating_capacity(7)"
   ]
  },
  {
   "cell_type": "markdown",
   "id": "6533622e-6537-4b78-9e8e-bcbdc4477b51",
   "metadata": {},
   "source": [
    "### Q3. What is multiple inheritance? Write a python code to demonstrate multiple inheritance."
   ]
  },
  {
   "cell_type": "markdown",
   "id": "9f625433-86d7-4e86-9158-735b6ebe1101",
   "metadata": {},
   "source": [
    "Multiple inheritance is a feature in Object-oriented Programming that allows to inherit attributes from multiple parent or base clsses."
   ]
  },
  {
   "cell_type": "code",
   "execution_count": 41,
   "id": "7d355c82-c464-4d1b-90eb-6e6543334bb7",
   "metadata": {},
   "outputs": [],
   "source": [
    "class calc1:\n",
    "    def add(self, x, y):\n",
    "        self.x = x\n",
    "        self.y = y        \n",
    "        return self.x + self.y\n",
    "    \n",
    "    def sub(self, x, y):\n",
    "        self.x = x\n",
    "        self.y = y\n",
    "        \n",
    "        return self.x - self.y\n",
    "    \n",
    "    \n",
    "class calc2:\n",
    "    def mult(self, x, y):\n",
    "        self.x = x\n",
    "        self.y = y\n",
    "        \n",
    "        return self.x * self.y\n",
    "    \n",
    "    def div(self, x, y):\n",
    "        self.x = x\n",
    "        self.y = y\n",
    "        \n",
    "        return self.x / self.y\n",
    "    \n",
    "class calculator(calc1, calc2):\n",
    "    def mod(self, x, y):\n",
    "        self.x = x\n",
    "        self.y = y\n",
    "        \n",
    "        return self.x % self.y"
   ]
  },
  {
   "cell_type": "code",
   "execution_count": 42,
   "id": "64ee0800-e590-4667-b956-8d9cef9e240c",
   "metadata": {},
   "outputs": [],
   "source": [
    "obj_calc = calculator()"
   ]
  },
  {
   "cell_type": "code",
   "execution_count": 44,
   "id": "35da3801-515c-4d72-8a77-df4884fcca81",
   "metadata": {},
   "outputs": [
    {
     "data": {
      "text/plain": [
       "2"
      ]
     },
     "execution_count": 44,
     "metadata": {},
     "output_type": "execute_result"
    }
   ],
   "source": [
    "obj_calc.mod(89,3)"
   ]
  },
  {
   "cell_type": "code",
   "execution_count": 45,
   "id": "635ebc05-8cd4-4072-b484-e40032066826",
   "metadata": {},
   "outputs": [
    {
     "data": {
      "text/plain": [
       "25"
      ]
     },
     "execution_count": 45,
     "metadata": {},
     "output_type": "execute_result"
    }
   ],
   "source": [
    "obj_calc.add(15,10)"
   ]
  },
  {
   "cell_type": "code",
   "execution_count": 47,
   "id": "f2f09675-033a-4572-89d1-ad0a34e2b1df",
   "metadata": {},
   "outputs": [
    {
     "data": {
      "text/plain": [
       "22.0"
      ]
     },
     "execution_count": 47,
     "metadata": {},
     "output_type": "execute_result"
    }
   ],
   "source": [
    "obj_calc.div(88,4)"
   ]
  },
  {
   "cell_type": "markdown",
   "id": "e914806d-ba6e-4900-8337-b790d01dcbd4",
   "metadata": {},
   "source": [
    "### Q4. What are getter and setter in python? Create a class and create a getter and a setter method in this class."
   ]
  },
  {
   "cell_type": "markdown",
   "id": "d18db8d9-f584-4510-b1c3-784a209e40ed",
   "metadata": {},
   "source": [
    "getters and setters are methods used to control access to the class' attribute(s)"
   ]
  },
  {
   "cell_type": "code",
   "execution_count": 97,
   "id": "99d9c445-f3c9-430e-9adf-1bf96b9e8b66",
   "metadata": {},
   "outputs": [],
   "source": [
    "class student:\n",
    "    def __init__(self, name, email, stud_id):\n",
    "        self.__name = name\n",
    "        self.__email = email\n",
    "        self.__stud_id = stud_id\n",
    "        \n",
    "   \n",
    "    #getter\n",
    "    @property\n",
    "    def get_student_info(self):\n",
    "        return self.__name, self.__email, self.__stud_id\n",
    "    \n",
    "    \n",
    "    #setter \n",
    "    def set_student_info(self,  name, email, stud_id):\n",
    "        self.__name = name\n",
    "        self.__email = email\n",
    "        self.__stud_id = stud_id\n",
    "        "
   ]
  },
  {
   "cell_type": "code",
   "execution_count": 98,
   "id": "8396dd69-9a10-4b5c-a582-1eff18449f14",
   "metadata": {},
   "outputs": [],
   "source": [
    "st_obj = student('Mohamed', 'example@gmail.com', 123456)"
   ]
  },
  {
   "cell_type": "code",
   "execution_count": 99,
   "id": "26aa203d-9825-4111-a189-3a26af82c07a",
   "metadata": {},
   "outputs": [
    {
     "data": {
      "text/plain": [
       "('Mohamed', 'example@gmail.com', 123456)"
      ]
     },
     "execution_count": 99,
     "metadata": {},
     "output_type": "execute_result"
    }
   ],
   "source": [
    "st_obj.get_student_info"
   ]
  },
  {
   "cell_type": "code",
   "execution_count": 100,
   "id": "958222e1-326d-467c-959d-3b0b91f925a1",
   "metadata": {},
   "outputs": [],
   "source": [
    "st_obj.set_student_info('John Doe', 'example3@gmail.com', 123789)"
   ]
  },
  {
   "cell_type": "code",
   "execution_count": 101,
   "id": "719811b0-5ef0-4bde-abd4-9894b4774fdf",
   "metadata": {},
   "outputs": [
    {
     "data": {
      "text/plain": [
       "('John Doe', 'example3@gmail.com', 123789)"
      ]
     },
     "execution_count": 101,
     "metadata": {},
     "output_type": "execute_result"
    }
   ],
   "source": [
    "st_obj.get_student_info"
   ]
  },
  {
   "cell_type": "markdown",
   "id": "8ca0cf35-7252-4fd2-847a-03410e8cadad",
   "metadata": {},
   "source": [
    "### Q5.What is method overriding in python? Write a python code to demonstrate method overriding"
   ]
  },
  {
   "cell_type": "markdown",
   "id": "e138276a-f139-4065-ada3-fa9ca91d5802",
   "metadata": {},
   "source": [
    "Method overriding occurs when a child class provides a specific implementation for a method that is already defined in its parent class"
   ]
  },
  {
   "cell_type": "code",
   "execution_count": 126,
   "id": "152f76bf-1874-43ea-8f23-2e48fc504e8f",
   "metadata": {},
   "outputs": [],
   "source": [
    "class school:\n",
    "    def courses(self):\n",
    "        print(\"School Courses.\")\n",
    "        \n",
    "class professor(school):\n",
    "    \n",
    "    def courses(self, course_name):\n",
    "        self.course_name = course_name        \n",
    "        print(self.course_name)"
   ]
  },
  {
   "cell_type": "code",
   "execution_count": 127,
   "id": "7fd3e1d9-729d-411f-a189-51e2aef2a06d",
   "metadata": {},
   "outputs": [],
   "source": [
    "obj_school = school()"
   ]
  },
  {
   "cell_type": "code",
   "execution_count": 128,
   "id": "f658e9f2-6191-45b1-b0c7-80eb65c29445",
   "metadata": {},
   "outputs": [
    {
     "name": "stdout",
     "output_type": "stream",
     "text": [
      "School Courses.\n"
     ]
    }
   ],
   "source": [
    "obj_school.courses()"
   ]
  },
  {
   "cell_type": "code",
   "execution_count": 129,
   "id": "f38b5839-b934-451a-afa5-8334ca8e0ba2",
   "metadata": {},
   "outputs": [],
   "source": [
    "obj_prof = professor()"
   ]
  },
  {
   "cell_type": "code",
   "execution_count": 133,
   "id": "ae0ebc98-9a74-483d-a082-4f77d52a42d4",
   "metadata": {},
   "outputs": [
    {
     "name": "stdout",
     "output_type": "stream",
     "text": [
      "['Data Science', 'Web Dev', 'CS']\n"
     ]
    }
   ],
   "source": [
    "obj_prof.courses(['Data Science', 'Web Dev', 'CS'])"
   ]
  },
  {
   "cell_type": "code",
   "execution_count": null,
   "id": "6c82ec81-4200-4c2f-8bd6-d397304d8de3",
   "metadata": {},
   "outputs": [],
   "source": []
  }
 ],
 "metadata": {
  "kernelspec": {
   "display_name": "Python 3 (ipykernel)",
   "language": "python",
   "name": "python3"
  },
  "language_info": {
   "codemirror_mode": {
    "name": "ipython",
    "version": 3
   },
   "file_extension": ".py",
   "mimetype": "text/x-python",
   "name": "python",
   "nbconvert_exporter": "python",
   "pygments_lexer": "ipython3",
   "version": "3.9.13"
  }
 },
 "nbformat": 4,
 "nbformat_minor": 5
}
