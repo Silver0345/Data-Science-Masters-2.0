{
 "cells": [
  {
   "cell_type": "markdown",
   "id": "ab98e106-5c35-455b-88b1-e89c5f0110e3",
   "metadata": {},
   "source": [
    "# Numpy Assignment"
   ]
  },
  {
   "cell_type": "markdown",
   "id": "b3b762d6-a431-4718-892c-a20e9bb852d2",
   "metadata": {},
   "source": [
    "**Consider the below code to answer further questions:**\n",
    "\n",
    "import numpy as np\n",
    "\n",
    "list_ = [ ‘1’ , ’2’ , ‘3’ , ‘4’ , ‘5’ ]\n",
    "\n",
    "array_list = np.array(object = list_)\n",
    "\n",
    "### Q1. Is there any difference in the data type of variables list_ and array_list? If there is then write a code to print the data types of both the variables."
   ]
  },
  {
   "cell_type": "code",
   "execution_count": 1,
   "id": "937be941-9555-4662-a65c-a13dc4a69ca3",
   "metadata": {
    "tags": []
   },
   "outputs": [],
   "source": [
    "import numpy as np"
   ]
  },
  {
   "cell_type": "code",
   "execution_count": 3,
   "id": "b023cae4-df0d-4368-b2e8-03a42ee7da9d",
   "metadata": {
    "tags": []
   },
   "outputs": [
    {
     "data": {
      "text/plain": [
       "['1', '2', '3', '4', '5']"
      ]
     },
     "execution_count": 3,
     "metadata": {},
     "output_type": "execute_result"
    }
   ],
   "source": [
    "list_ = [ '1' , '2' , '3' , '4' , '5' ]\n",
    "list_"
   ]
  },
  {
   "cell_type": "code",
   "execution_count": 4,
   "id": "111e2d61-6420-4f27-874d-377de4baeb75",
   "metadata": {
    "tags": []
   },
   "outputs": [
    {
     "data": {
      "text/plain": [
       "array(['1', '2', '3', '4', '5'], dtype='<U1')"
      ]
     },
     "execution_count": 4,
     "metadata": {},
     "output_type": "execute_result"
    }
   ],
   "source": [
    "array_list = np.array(object = list_)\n",
    "array_list"
   ]
  },
  {
   "cell_type": "markdown",
   "id": "f40d0daf-9b5d-4762-9ff7-7db3569d4c88",
   "metadata": {},
   "source": [
    "##### Yes, there is a difference in the data type of variables list_ and array_list. The data type of list_ is list while array_list is of numpy array data type (numpy.ndarray)"
   ]
  },
  {
   "cell_type": "code",
   "execution_count": 5,
   "id": "5987841d-f183-4e75-9314-7cfcd15bb6ef",
   "metadata": {
    "tags": []
   },
   "outputs": [
    {
     "data": {
      "text/plain": [
       "list"
      ]
     },
     "execution_count": 5,
     "metadata": {},
     "output_type": "execute_result"
    }
   ],
   "source": [
    "type(list_)"
   ]
  },
  {
   "cell_type": "code",
   "execution_count": 6,
   "id": "cd2a67d2-96c8-47e8-af2d-62944d57fe80",
   "metadata": {
    "tags": []
   },
   "outputs": [
    {
     "data": {
      "text/plain": [
       "numpy.ndarray"
      ]
     },
     "execution_count": 6,
     "metadata": {},
     "output_type": "execute_result"
    }
   ],
   "source": [
    "type(array_list)"
   ]
  },
  {
   "cell_type": "markdown",
   "id": "1d25560c-72c9-4664-b008-1484a86fa9d7",
   "metadata": {},
   "source": [
    "### Q2. Write a code to print the data type of each and every element of both the variables list_ and arra_list."
   ]
  },
  {
   "cell_type": "code",
   "execution_count": 7,
   "id": "84b7c4a4-b8e1-46e5-a906-134a678dd06e",
   "metadata": {
    "tags": []
   },
   "outputs": [
    {
     "name": "stdout",
     "output_type": "stream",
     "text": [
      "1 is of <class 'str'> data type.\n",
      "2 is of <class 'str'> data type.\n",
      "3 is of <class 'str'> data type.\n",
      "4 is of <class 'str'> data type.\n",
      "5 is of <class 'str'> data type.\n"
     ]
    }
   ],
   "source": [
    "for i in list_:\n",
    "    print(f'{i} is of {type(i)} data type.')"
   ]
  },
  {
   "cell_type": "code",
   "execution_count": 8,
   "id": "f02162f7-491b-42a7-8677-81db022d4e7e",
   "metadata": {
    "tags": []
   },
   "outputs": [
    {
     "name": "stdout",
     "output_type": "stream",
     "text": [
      "1 is of <class 'numpy.str_'> data type.\n",
      "2 is of <class 'numpy.str_'> data type.\n",
      "3 is of <class 'numpy.str_'> data type.\n",
      "4 is of <class 'numpy.str_'> data type.\n",
      "5 is of <class 'numpy.str_'> data type.\n"
     ]
    }
   ],
   "source": [
    "for i in array_list:\n",
    "    print(f'{i} is of {type(i)} data type.')"
   ]
  },
  {
   "cell_type": "markdown",
   "id": "82596c64-b650-4b58-aec1-a6d79fc782e2",
   "metadata": {},
   "source": [
    "### Q3. Considering the following changes in the variable, array_list: array_list = np.array(object = list_, dtype = int)\n",
    "\n",
    "##### Will there be any difference in the data type of the elements present in both the variables, list_ and arra_list? If so then print the data types of each and every element present in both the variables, list_ and arra_list."
   ]
  },
  {
   "cell_type": "code",
   "execution_count": 9,
   "id": "c6b45560-450a-46ba-b2a6-32af5a4296b1",
   "metadata": {
    "tags": []
   },
   "outputs": [
    {
     "data": {
      "text/plain": [
       "array([1, 2, 3, 4, 5])"
      ]
     },
     "execution_count": 9,
     "metadata": {},
     "output_type": "execute_result"
    }
   ],
   "source": [
    "array_list = np.array(object = list_, dtype = int)\n",
    "array_list"
   ]
  },
  {
   "cell_type": "markdown",
   "id": "93f63144-d6cb-4183-bfc5-756347a0af7a",
   "metadata": {},
   "source": [
    "#### No, there won't any difference in the data type because it is still a numpy array but the data type of the elemnets of the will change from string to int data type."
   ]
  },
  {
   "cell_type": "code",
   "execution_count": 12,
   "id": "d6adfe8b-6245-4f3e-bbd8-5b3274e88a8b",
   "metadata": {
    "tags": []
   },
   "outputs": [
    {
     "data": {
      "text/plain": [
       "numpy.ndarray"
      ]
     },
     "execution_count": 12,
     "metadata": {},
     "output_type": "execute_result"
    }
   ],
   "source": [
    "type(array_list)"
   ]
  },
  {
   "cell_type": "code",
   "execution_count": 13,
   "id": "60447f5a-1e20-41c7-bbe7-101b0dfd70be",
   "metadata": {
    "tags": []
   },
   "outputs": [
    {
     "name": "stdout",
     "output_type": "stream",
     "text": [
      "1 data type is <class 'numpy.int32'>.\n",
      "2 data type is <class 'numpy.int32'>.\n",
      "3 data type is <class 'numpy.int32'>.\n",
      "4 data type is <class 'numpy.int32'>.\n",
      "5 data type is <class 'numpy.int32'>.\n"
     ]
    }
   ],
   "source": [
    "for i in array_list:\n",
    "    print(f'{i} data type is {type(i)}.')"
   ]
  },
  {
   "cell_type": "markdown",
   "id": "fb144497-f1c6-49a7-8fc5-55a113e4de1a",
   "metadata": {},
   "source": [
    "**Consider the below code to answer further questions:**\n",
    "\n",
    "**import numpy as np**\n",
    "\n",
    "**num_list = [ [ 1 , 2 , 3 ] , [ 4 , 5 , 6 ] ]**\n",
    "\n",
    "**num_array = np.array(object = num_list)**\n",
    "\n",
    "### Q4. Write a code to find the following characteristics of variable, num_array:\n",
    "\n",
    "#### (i)\t shape\n",
    "\n",
    "#### (ii) size"
   ]
  },
  {
   "cell_type": "code",
   "execution_count": 15,
   "id": "35a43379-2739-4df5-a209-066b1a6c5625",
   "metadata": {
    "tags": []
   },
   "outputs": [
    {
     "data": {
      "text/plain": [
       "array([[1, 2, 3],\n",
       "       [4, 5, 6]])"
      ]
     },
     "execution_count": 15,
     "metadata": {},
     "output_type": "execute_result"
    }
   ],
   "source": [
    "num_list = [ [ 1 , 2 , 3 ] , [ 4 , 5 , 6 ] ]\n",
    "\n",
    "num_array = np.array(object = num_list)\n",
    "num_array"
   ]
  },
  {
   "cell_type": "code",
   "execution_count": 16,
   "id": "b0e710c3-74f1-4ff6-8fa8-97eb7806d656",
   "metadata": {
    "tags": []
   },
   "outputs": [
    {
     "data": {
      "text/plain": [
       "(2, 3)"
      ]
     },
     "execution_count": 16,
     "metadata": {},
     "output_type": "execute_result"
    }
   ],
   "source": [
    "num_array.shape"
   ]
  },
  {
   "cell_type": "code",
   "execution_count": 17,
   "id": "e3ae1d27-75f5-4c75-89d2-21de871dbded",
   "metadata": {
    "tags": []
   },
   "outputs": [
    {
     "data": {
      "text/plain": [
       "6"
      ]
     },
     "execution_count": 17,
     "metadata": {},
     "output_type": "execute_result"
    }
   ],
   "source": [
    "num_array.size"
   ]
  },
  {
   "cell_type": "markdown",
   "id": "e75bd5bd-97ca-44b7-9f50-7a4b95779f87",
   "metadata": {},
   "source": [
    "### Q5. Write a code to create numpy array of 3*3 matrix containing zeros only, using a numpy array creation function.\n",
    "\n",
    "[Hint: The size of the array will be 9 and the shape will be (3,3).]"
   ]
  },
  {
   "cell_type": "code",
   "execution_count": 18,
   "id": "edfc3bc9-bb8c-4715-a6c0-a62707847345",
   "metadata": {
    "tags": []
   },
   "outputs": [
    {
     "data": {
      "text/plain": [
       "array([[0., 0., 0.],\n",
       "       [0., 0., 0.],\n",
       "       [0., 0., 0.]])"
      ]
     },
     "execution_count": 18,
     "metadata": {},
     "output_type": "execute_result"
    }
   ],
   "source": [
    "q5 = np.zeros((3,3))\n",
    "q5"
   ]
  },
  {
   "cell_type": "code",
   "execution_count": 19,
   "id": "5fa1fb92-0ea1-4891-b2ea-4d588bc83029",
   "metadata": {
    "tags": []
   },
   "outputs": [
    {
     "data": {
      "text/plain": [
       "9"
      ]
     },
     "execution_count": 19,
     "metadata": {},
     "output_type": "execute_result"
    }
   ],
   "source": [
    "q5.size"
   ]
  },
  {
   "cell_type": "code",
   "execution_count": 20,
   "id": "e822ed75-c125-4085-b9db-d02339d24b64",
   "metadata": {
    "tags": []
   },
   "outputs": [
    {
     "data": {
      "text/plain": [
       "(3, 3)"
      ]
     },
     "execution_count": 20,
     "metadata": {},
     "output_type": "execute_result"
    }
   ],
   "source": [
    "q5.shape"
   ]
  },
  {
   "cell_type": "markdown",
   "id": "ae18fc71-ad96-4531-babf-4f623f5e2e70",
   "metadata": {},
   "source": [
    "### Q6. Create an identity matrix of shape (5,5) using numpy functions?\n",
    "\n",
    "[Hint: An identity matrix is a matrix containing 1 diagonally and other elements will be 0.]"
   ]
  },
  {
   "cell_type": "code",
   "execution_count": 10,
   "id": "637d33dd-dfac-4148-b73c-2b4056aeabb2",
   "metadata": {
    "tags": []
   },
   "outputs": [
    {
     "data": {
      "text/plain": [
       "array([[1., 0., 0., 0., 0.],\n",
       "       [0., 1., 0., 0., 0.],\n",
       "       [0., 0., 1., 0., 0.],\n",
       "       [0., 0., 0., 1., 0.],\n",
       "       [0., 0., 0., 0., 1.]])"
      ]
     },
     "execution_count": 10,
     "metadata": {},
     "output_type": "execute_result"
    }
   ],
   "source": [
    "np.eye(5)"
   ]
  }
 ],
 "metadata": {
  "kernelspec": {
   "display_name": "Python 3 (ipykernel)",
   "language": "python",
   "name": "python3"
  },
  "language_info": {
   "codemirror_mode": {
    "name": "ipython",
    "version": 3
   },
   "file_extension": ".py",
   "mimetype": "text/x-python",
   "name": "python",
   "nbconvert_exporter": "python",
   "pygments_lexer": "ipython3",
   "version": "3.9.17"
  }
 },
 "nbformat": 4,
 "nbformat_minor": 5
}
