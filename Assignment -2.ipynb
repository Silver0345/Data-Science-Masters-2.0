{
 "cells": [
  {
   "cell_type": "markdown",
   "id": "34d20724-ac77-4110-bbe7-3fc55d7b7df9",
   "metadata": {},
   "source": [
    "# Assignment-2"
   ]
  },
  {
   "cell_type": "markdown",
   "id": "2952a1c6-8d60-48f0-97cb-39affa8cbd8f",
   "metadata": {},
   "source": [
    "### Q1. How do you comment code in Python? What are the different types of comments?"
   ]
  },
  {
   "cell_type": "markdown",
   "id": "65555d61-fad3-455b-8a7a-e953e8deeafe",
   "metadata": {},
   "source": [
    "### You can comment using '#' in python\n",
    "### There are 3 different types of comments in python: \n",
    "\n",
    "#### single-line comment using '#'\n",
    "\n",
    "#### Multi-lines comment using string literals ('comment...', \"comments...\", and \"\"\"comments...\"\"\") that are not assigned to variable\n",
    "\n",
    "#### Docstring, a string literals with triple quotes that appears right after function, it is used to associate a function's documentation \n",
    " "
   ]
  },
  {
   "cell_type": "markdown",
   "id": "9175c944-00f0-4089-b821-584712e31134",
   "metadata": {},
   "source": [
    "### Q2. What are variables in Python? How do you declare and assign values to variables?"
   ]
  },
  {
   "cell_type": "markdown",
   "id": "52c2ede4-29b8-4bfa-bbb6-fc8f63ea2797",
   "metadata": {},
   "source": [
    "#### Variable are like containers, they are used to store values.\n",
    "#### You declare and assign values to variable by first writting the varible name at the left, then use an assignment operator '=' to assign the value, and write the value that you are going to assign at the right."
   ]
  },
  {
   "cell_type": "code",
   "execution_count": 2,
   "id": "81e9b2e3-5950-4904-9dad-efd379defa0c",
   "metadata": {},
   "outputs": [
    {
     "data": {
      "text/plain": [
       "'Hello Worlde!'"
      ]
     },
     "execution_count": 2,
     "metadata": {},
     "output_type": "execute_result"
    }
   ],
   "source": [
    "var1 = \"Hello Worlde!\"\n",
    "var1"
   ]
  },
  {
   "cell_type": "code",
   "execution_count": 3,
   "id": "12500707-5000-4398-be05-5ca2b9430149",
   "metadata": {},
   "outputs": [
    {
     "data": {
      "text/plain": [
       "256"
      ]
     },
     "execution_count": 3,
     "metadata": {},
     "output_type": "execute_result"
    }
   ],
   "source": [
    "var2 = 256\n",
    "var2"
   ]
  },
  {
   "cell_type": "markdown",
   "id": "c11735cb-611b-4bfd-ad4a-4d0428c23ea4",
   "metadata": {},
   "source": [
    "### Q3. How do you convert one data type to another in Python?"
   ]
  },
  {
   "cell_type": "markdown",
   "id": "d271f7e0-0e9a-43f1-aa79-59370aa340fa",
   "metadata": {},
   "source": [
    "#### You convert one data type to another by first writing the data type or the abreviation of the data type that you are trying convert the value into follow by the value you are trying to convert inside an open and a close braket ()."
   ]
  },
  {
   "cell_type": "code",
   "execution_count": 4,
   "id": "cab8567e-d0e6-426e-abc8-24a59057d380",
   "metadata": {},
   "outputs": [
    {
     "data": {
      "text/plain": [
       "126"
      ]
     },
     "execution_count": 4,
     "metadata": {},
     "output_type": "execute_result"
    }
   ],
   "source": [
    "num1 = 126\n",
    "num1"
   ]
  },
  {
   "cell_type": "code",
   "execution_count": 5,
   "id": "84f1a52e-33a8-465a-ba12-687d4bec9cff",
   "metadata": {},
   "outputs": [
    {
     "data": {
      "text/plain": [
       "'126'"
      ]
     },
     "execution_count": 5,
     "metadata": {},
     "output_type": "execute_result"
    }
   ],
   "source": [
    "str(num1)"
   ]
  },
  {
   "cell_type": "markdown",
   "id": "0e7a5846-91dc-4cd9-be2c-d2fb8252815e",
   "metadata": {},
   "source": [
    "### Q4. How do you write and execute a Python script from the command line?"
   ]
  },
  {
   "cell_type": "markdown",
   "id": "1fe2510c-7a8e-4d50-a35e-894319d7bb7a",
   "metadata": {},
   "source": [
    "#### You can write and execute a Python script from the command line by first open a command line and type the word python followed by the path to your script file; then hit the ENTER key."
   ]
  },
  {
   "cell_type": "markdown",
   "id": "0b1f05df-39dd-44bf-824f-7ed12fc31bb5",
   "metadata": {},
   "source": [
    "### Q5. Given a list my_list = [1, 2, 3, 4, 5], write the code to slice the list and obtain the sub-list [2, 3]."
   ]
  },
  {
   "cell_type": "code",
   "execution_count": 6,
   "id": "454027d0-7901-4cda-a7fc-aba3540ad1ed",
   "metadata": {},
   "outputs": [
    {
     "data": {
      "text/plain": [
       "[1, 2, 3, 4, 5]"
      ]
     },
     "execution_count": 6,
     "metadata": {},
     "output_type": "execute_result"
    }
   ],
   "source": [
    "my_list = [1, 2, 3, 4, 5]\n",
    "my_list"
   ]
  },
  {
   "cell_type": "code",
   "execution_count": 7,
   "id": "34e727e3-9339-4c56-97dc-cc35a86255a0",
   "metadata": {},
   "outputs": [
    {
     "data": {
      "text/plain": [
       "[2, 3]"
      ]
     },
     "execution_count": 7,
     "metadata": {},
     "output_type": "execute_result"
    }
   ],
   "source": [
    "my_list[1:3]"
   ]
  },
  {
   "cell_type": "markdown",
   "id": "eef5db03-9c6f-4da3-9022-310eb526a756",
   "metadata": {},
   "source": [
    "### Q6. What is a complex number in mathematics, and how is it represented in Python?"
   ]
  },
  {
   "cell_type": "markdown",
   "id": "4f78df96-7e2c-4365-8af2-c013be2cca81",
   "metadata": {},
   "source": [
    "#### A complex number is a combination of a real and imaginary number."
   ]
  },
  {
   "cell_type": "code",
   "execution_count": 8,
   "id": "f7dcb9e8-1e96-497f-8218-88bcd7bce555",
   "metadata": {},
   "outputs": [
    {
     "data": {
      "text/plain": [
       "(5+3j)"
      ]
     },
     "execution_count": 8,
     "metadata": {},
     "output_type": "execute_result"
    }
   ],
   "source": [
    "5+ 3j"
   ]
  },
  {
   "cell_type": "code",
   "execution_count": 9,
   "id": "088c88fa-c381-455d-b5da-6b7f389cca87",
   "metadata": {},
   "outputs": [
    {
     "data": {
      "text/plain": [
       "complex"
      ]
     },
     "execution_count": 9,
     "metadata": {},
     "output_type": "execute_result"
    }
   ],
   "source": [
    "type(5+ 3j)"
   ]
  },
  {
   "cell_type": "markdown",
   "id": "13ba5ef7-e914-4b48-b1c2-d001d5c1dec0",
   "metadata": {},
   "source": [
    "### Q7. What is the correct way to declare a variable named age and assign the value 25 to it?"
   ]
  },
  {
   "cell_type": "code",
   "execution_count": 10,
   "id": "e568451c-190e-4a84-b834-6a3569b9a8b5",
   "metadata": {},
   "outputs": [],
   "source": [
    "age = 25"
   ]
  },
  {
   "cell_type": "code",
   "execution_count": 11,
   "id": "1d796b66-2cb2-41ad-ae10-5a44f65d3441",
   "metadata": {},
   "outputs": [
    {
     "data": {
      "text/plain": [
       "25"
      ]
     },
     "execution_count": 11,
     "metadata": {},
     "output_type": "execute_result"
    }
   ],
   "source": [
    "age"
   ]
  },
  {
   "cell_type": "markdown",
   "id": "6efde955-b460-491c-869a-b09eaece4645",
   "metadata": {},
   "source": [
    "### Q8. Declare a variable named price and assign the value 9.99 to it. What data type does this variable belong to?"
   ]
  },
  {
   "cell_type": "code",
   "execution_count": 12,
   "id": "2c9b1415-b5b5-454f-aebf-6769ca719169",
   "metadata": {},
   "outputs": [
    {
     "data": {
      "text/plain": [
       "float"
      ]
     },
     "execution_count": 12,
     "metadata": {},
     "output_type": "execute_result"
    }
   ],
   "source": [
    "price = 9.99\n",
    "type(price)"
   ]
  },
  {
   "cell_type": "markdown",
   "id": "82de5447-6cc3-45c8-b426-608b51b5daaa",
   "metadata": {},
   "source": [
    "### Q9. Create a variable named name and assign your full name to it as a string. How would you print the value of this variable?"
   ]
  },
  {
   "cell_type": "code",
   "execution_count": 13,
   "id": "907d05d7-412b-4843-8b9c-5af49a34a04c",
   "metadata": {},
   "outputs": [
    {
     "data": {
      "text/plain": [
       "'Mohamed Amadou'"
      ]
     },
     "execution_count": 13,
     "metadata": {},
     "output_type": "execute_result"
    }
   ],
   "source": [
    "name = \"Mohamed Amadou\"\n",
    "name"
   ]
  },
  {
   "cell_type": "code",
   "execution_count": 14,
   "id": "befba558-db93-4042-941a-c0736a537f46",
   "metadata": {},
   "outputs": [
    {
     "name": "stdout",
     "output_type": "stream",
     "text": [
      "Mohamed Amadou\n"
     ]
    }
   ],
   "source": [
    "print(name)"
   ]
  },
  {
   "cell_type": "markdown",
   "id": "69d6e5ed-7980-446e-8f64-57402d4a8b62",
   "metadata": {},
   "source": [
    "### Q10. Given the string \"Hello, World!\", extract the substring \"World\"."
   ]
  },
  {
   "cell_type": "code",
   "execution_count": 15,
   "id": "59c43dcd-014d-4fb0-b781-87387376624c",
   "metadata": {},
   "outputs": [
    {
     "data": {
      "text/plain": [
       "'Hello, World!'"
      ]
     },
     "execution_count": 15,
     "metadata": {},
     "output_type": "execute_result"
    }
   ],
   "source": [
    "st1 =\"Hello, World!\"\n",
    "st1"
   ]
  },
  {
   "cell_type": "code",
   "execution_count": 21,
   "id": "43c47ccb-e8b3-402b-8fd5-b0f8d9e3e4fe",
   "metadata": {},
   "outputs": [
    {
     "data": {
      "text/plain": [
       "'World'"
      ]
     },
     "execution_count": 21,
     "metadata": {},
     "output_type": "execute_result"
    }
   ],
   "source": [
    "st1[7:-1]"
   ]
  },
  {
   "cell_type": "markdown",
   "id": "e3ad2f75-c2ac-46d7-89d3-d3d11eb85aed",
   "metadata": {},
   "source": [
    "### Q11. Create a variable named \"is_student\" and assign it a boolean value indicating whether you are currently a student or not."
   ]
  },
  {
   "cell_type": "code",
   "execution_count": 22,
   "id": "14ac62ab-1689-4720-9be8-1c38595ad7c7",
   "metadata": {},
   "outputs": [],
   "source": [
    "is_student = True"
   ]
  },
  {
   "cell_type": "code",
   "execution_count": 24,
   "id": "0d836428-ab94-4d01-a4dd-38294f4b6c57",
   "metadata": {},
   "outputs": [
    {
     "data": {
      "text/plain": [
       "True"
      ]
     },
     "execution_count": 24,
     "metadata": {},
     "output_type": "execute_result"
    }
   ],
   "source": [
    "is_student == True"
   ]
  }
 ],
 "metadata": {
  "kernelspec": {
   "display_name": "Python 3 (ipykernel)",
   "language": "python",
   "name": "python3"
  },
  "language_info": {
   "codemirror_mode": {
    "name": "ipython",
    "version": 3
   },
   "file_extension": ".py",
   "mimetype": "text/x-python",
   "name": "python",
   "nbconvert_exporter": "python",
   "pygments_lexer": "ipython3",
   "version": "3.9.13"
  }
 },
 "nbformat": 4,
 "nbformat_minor": 5
}
