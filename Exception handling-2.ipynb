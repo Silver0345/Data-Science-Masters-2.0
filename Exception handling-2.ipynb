{
 "cells": [
  {
   "cell_type": "markdown",
   "id": "650826ac-243a-4ddd-8791-c0c03d72ec5c",
   "metadata": {},
   "source": [
    "# Exception handling-2"
   ]
  },
  {
   "cell_type": "markdown",
   "id": "3de8ca94-f95c-4eef-874f-b2755958526b",
   "metadata": {},
   "source": [
    "### Q1. Explain why we have to use the Exception class while creating a Custom Exception.\n",
    "\n",
    "**Note:** Here Exception class refers to the base class for all the exceptions."
   ]
  },
  {
   "cell_type": "markdown",
   "id": "d2856dae-1147-4345-bf05-0a3a4a03ec6a",
   "metadata": {},
   "source": [
    "We use Exception class while creating a Custom Exception because Exception is base class for all exceptions in Python. All exception are inherited from Exception class."
   ]
  },
  {
   "cell_type": "markdown",
   "id": "87ab34fa-2c13-4fdf-bd3d-6612fa9f216b",
   "metadata": {},
   "source": [
    "### Q2. Write a python program to print Python Exception Hierarchy."
   ]
  },
  {
   "cell_type": "code",
   "execution_count": 5,
   "id": "83d09b20-f603-45e7-b183-620a6d2c3f9c",
   "metadata": {},
   "outputs": [
    {
     "name": "stdout",
     "output_type": "stream",
     "text": [
      "Python Exception Hierarchy: \n",
      "BaseException\n",
      "   Exception\n",
      "      TypeError\n",
      "         FloatOperation\n",
      "         MultipartConversionError\n",
      "      StopAsyncIteration\n",
      "      StopIteration\n",
      "      ImportError\n",
      "         ModuleNotFoundError\n",
      "         ZipImportError\n",
      "      OSError\n",
      "         ConnectionError\n",
      "            BrokenPipeError\n",
      "            ConnectionAbortedError\n",
      "            ConnectionRefusedError\n",
      "            ConnectionResetError\n",
      "               RemoteDisconnected\n",
      "         BlockingIOError\n",
      "         ChildProcessError\n",
      "         FileExistsError\n",
      "         FileNotFoundError\n",
      "         IsADirectoryError\n",
      "         NotADirectoryError\n",
      "         InterruptedError\n",
      "            InterruptedSystemCall\n",
      "         PermissionError\n",
      "         ProcessLookupError\n",
      "         TimeoutError\n",
      "         UnsupportedOperation\n",
      "         itimer_error\n",
      "         herror\n",
      "         gaierror\n",
      "         SSLError\n",
      "            SSLCertVerificationError\n",
      "            SSLZeroReturnError\n",
      "            SSLWantWriteError\n",
      "            SSLWantReadError\n",
      "            SSLSyscallError\n",
      "            SSLEOFError\n",
      "         Error\n",
      "            SameFileError\n",
      "         SpecialFileError\n",
      "         ExecError\n",
      "         ReadError\n",
      "         URLError\n",
      "            HTTPError\n",
      "            ContentTooShortError\n",
      "         BadGzipFile\n",
      "      EOFError\n",
      "         IncompleteReadError\n",
      "      RuntimeError\n",
      "         RecursionError\n",
      "         NotImplementedError\n",
      "            ZMQVersionError\n",
      "            StdinNotImplementedError\n",
      "         _DeadlockError\n",
      "         BrokenBarrierError\n",
      "         BrokenExecutor\n",
      "            BrokenThreadPool\n",
      "         SendfileNotAvailableError\n",
      "         ExtractionError\n",
      "         VariableError\n",
      "      NameError\n",
      "         UnboundLocalError\n",
      "      AttributeError\n",
      "         FrozenInstanceError\n",
      "      SyntaxError\n",
      "         IndentationError\n",
      "            TabError\n",
      "      LookupError\n",
      "         IndexError\n",
      "         KeyError\n",
      "            NoSuchKernel\n",
      "            UnknownBackend\n",
      "         CodecRegistryError\n",
      "      ValueError\n",
      "         UnicodeError\n",
      "            UnicodeEncodeError\n",
      "            UnicodeDecodeError\n",
      "            UnicodeTranslateError\n",
      "         UnsupportedOperation\n",
      "         JSONDecodeError\n",
      "         SSLCertVerificationError\n",
      "         Error\n",
      "         UnsupportedDigestmodError\n",
      "         IllegalMonthError\n",
      "         IllegalWeekdayError\n",
      "         ParserError\n",
      "         ClassNotFound\n",
      "         ClipboardEmpty\n",
      "         MessageDefect\n",
      "            NoBoundaryInMultipartDefect\n",
      "            StartBoundaryNotFoundDefect\n",
      "            CloseBoundaryNotFoundDefect\n",
      "            FirstHeaderLineIsContinuationDefect\n",
      "            MisplacedEnvelopeHeaderDefect\n",
      "            MissingHeaderBodySeparatorDefect\n",
      "            MultipartInvariantViolationDefect\n",
      "            InvalidMultipartContentTransferEncodingDefect\n",
      "            UndecodableBytesDefect\n",
      "            InvalidBase64PaddingDefect\n",
      "            InvalidBase64CharactersDefect\n",
      "            InvalidBase64LengthDefect\n",
      "            HeaderDefect\n",
      "               InvalidHeaderDefect\n",
      "               HeaderMissingRequiredValue\n",
      "               NonPrintableDefect\n",
      "               ObsoleteHeaderDefect\n",
      "               NonASCIILocalPartDefect\n",
      "               InvalidDateDefect\n",
      "         MacroToEdit\n",
      "         InvalidFileException\n",
      "         UnequalIterablesError\n",
      "         InvalidVersion\n",
      "         _InvalidELFFileHeader\n",
      "         InvalidWheelFilename\n",
      "         InvalidSdistFilename\n",
      "         InvalidSpecifier\n",
      "         InvalidMarker\n",
      "         UndefinedComparison\n",
      "         UndefinedEnvironmentName\n",
      "         InvalidRequirement\n",
      "            RequirementParseError\n",
      "         InvalidVersion\n",
      "      AssertionError\n",
      "      ArithmeticError\n",
      "         FloatingPointError\n",
      "         OverflowError\n",
      "         ZeroDivisionError\n",
      "            DivisionByZero\n",
      "            DivisionUndefined\n",
      "         DecimalException\n",
      "            Clamped\n",
      "            Rounded\n",
      "               Underflow\n",
      "               Overflow\n",
      "            Inexact\n",
      "               Underflow\n",
      "               Overflow\n",
      "            Subnormal\n",
      "               Underflow\n",
      "            DivisionByZero\n",
      "            FloatOperation\n",
      "            InvalidOperation\n",
      "               ConversionSyntax\n",
      "               DivisionImpossible\n",
      "               DivisionUndefined\n",
      "               InvalidContext\n",
      "      SystemError\n",
      "         CodecRegistryError\n",
      "      ReferenceError\n",
      "      MemoryError\n",
      "      BufferError\n",
      "      Warning\n",
      "         UserWarning\n",
      "            GetPassWarning\n",
      "            FormatterWarning\n",
      "         EncodingWarning\n",
      "         DeprecationWarning\n",
      "            ProvisionalWarning\n",
      "         PendingDeprecationWarning\n",
      "         SyntaxWarning\n",
      "         RuntimeWarning\n",
      "            ProactorSelectorThreadWarning\n",
      "            UnknownTimezoneWarning\n",
      "            PEP440Warning\n",
      "         FutureWarning\n",
      "            ProvisionalCompleterWarning\n",
      "         ImportWarning\n",
      "         UnicodeWarning\n",
      "         BytesWarning\n",
      "         ResourceWarning\n",
      "         DeprecatedTzFormatWarning\n",
      "         PkgResourcesDeprecationWarning\n",
      "      _OptionError\n",
      "      _Error\n",
      "      error\n",
      "      Verbose\n",
      "      Error\n",
      "      SubprocessError\n",
      "         CalledProcessError\n",
      "         TimeoutExpired\n",
      "      TokenError\n",
      "      StopTokenizing\n",
      "      ClassFoundException\n",
      "      EndOfBlock\n",
      "      TraitError\n",
      "      Error\n",
      "      Error\n",
      "         CancelledError\n",
      "         TimeoutError\n",
      "         InvalidStateError\n",
      "      _GiveupOnSendfile\n",
      "      error\n",
      "      Incomplete\n",
      "      TimeoutError\n",
      "      InvalidStateError\n",
      "      LimitOverrunError\n",
      "      QueueEmpty\n",
      "      QueueFull\n",
      "      Empty\n",
      "      Full\n",
      "      ArgumentError\n",
      "      ZMQBaseError\n",
      "         ZMQError\n",
      "            ContextTerminated\n",
      "            Again\n",
      "            InterruptedSystemCall\n",
      "         ZMQBindError\n",
      "         NotDone\n",
      "      PickleError\n",
      "         PicklingError\n",
      "         UnpicklingError\n",
      "      _Stop\n",
      "      ArgumentError\n",
      "      ArgumentTypeError\n",
      "      ConfigError\n",
      "         ConfigLoaderError\n",
      "            ArgumentError\n",
      "         ConfigFileNotFound\n",
      "      ConfigurableError\n",
      "         MultipleInstanceError\n",
      "      ApplicationError\n",
      "      error\n",
      "      TimeoutError\n",
      "      error\n",
      "      ReturnValueIgnoredError\n",
      "      KeyReuseError\n",
      "      UnknownKeyError\n",
      "      LeakedCallbackError\n",
      "      BadYieldError\n",
      "      ReturnValueIgnoredError\n",
      "      Return\n",
      "      InvalidPortNumber\n",
      "      error\n",
      "      LZMAError\n",
      "      RegistryError\n",
      "      _GiveupOnFastCopy\n",
      "      Error\n",
      "         NoSectionError\n",
      "         DuplicateSectionError\n",
      "         DuplicateOptionError\n",
      "         NoOptionError\n",
      "         InterpolationError\n",
      "            InterpolationMissingOptionError\n",
      "            InterpolationSyntaxError\n",
      "            InterpolationDepthError\n",
      "         ParsingError\n",
      "            MissingSectionHeaderError\n",
      "      NoIPAddresses\n",
      "      BadZipFile\n",
      "      LargeZipFile\n",
      "      BadEntryPoint\n",
      "      NoSuchEntryPoint\n",
      "      DuplicateKernelError\n",
      "      ErrorDuringImport\n",
      "      NotOneValueFound\n",
      "      CannotEval\n",
      "      OptionError\n",
      "      BdbQuit\n",
      "      Restart\n",
      "      ExceptionPexpect\n",
      "         EOF\n",
      "         TIMEOUT\n",
      "      PtyProcessError\n",
      "      FindCmdError\n",
      "      HomeDirError\n",
      "      ProfileDirError\n",
      "      IPythonCoreError\n",
      "         TryNext\n",
      "         UsageError\n",
      "         StdinNotImplementedError\n",
      "      InputRejected\n",
      "      GetoptError\n",
      "      ErrorToken\n",
      "      PrefilterError\n",
      "      AliasError\n",
      "         InvalidAliasError\n",
      "      Error\n",
      "         InterfaceError\n",
      "         DatabaseError\n",
      "            InternalError\n",
      "            OperationalError\n",
      "            ProgrammingError\n",
      "            IntegrityError\n",
      "            DataError\n",
      "            NotSupportedError\n",
      "      Warning\n",
      "      SpaceInInput\n",
      "      DOMException\n",
      "         IndexSizeErr\n",
      "         DomstringSizeErr\n",
      "         HierarchyRequestErr\n",
      "         WrongDocumentErr\n",
      "         InvalidCharacterErr\n",
      "         NoDataAllowedErr\n",
      "         NoModificationAllowedErr\n",
      "         NotFoundErr\n",
      "         NotSupportedErr\n",
      "         InuseAttributeErr\n",
      "         InvalidStateErr\n",
      "         SyntaxErr\n",
      "         InvalidModificationErr\n",
      "         NamespaceErr\n",
      "         InvalidAccessErr\n",
      "         ValidationErr\n",
      "      ValidationError\n",
      "      EditReadOnlyBuffer\n",
      "      _Retry\n",
      "      InvalidLayoutError\n",
      "      HeightIsUnknownError\n",
      "      ParserSyntaxError\n",
      "      InternalParseError\n",
      "      _PositionUpdatingFinished\n",
      "      SimpleGetItemNotFound\n",
      "      UncaughtAttributeError\n",
      "      HasNoContext\n",
      "      ParamIssue\n",
      "      _JediError\n",
      "         InternalError\n",
      "         WrongVersion\n",
      "         RefactoringError\n",
      "      OnErrorLeaf\n",
      "      InvalidPythonEnvironment\n",
      "      MessageError\n",
      "         MessageParseError\n",
      "            HeaderParseError\n",
      "            BoundaryError\n",
      "         MultipartConversionError\n",
      "         CharsetError\n",
      "      Error\n",
      "      HTTPException\n",
      "         NotConnected\n",
      "         InvalidURL\n",
      "         UnknownProtocol\n",
      "         UnknownTransferEncoding\n",
      "         UnimplementedFileMode\n",
      "         IncompleteRead\n",
      "         ImproperConnectionState\n",
      "            CannotSendRequest\n",
      "            CannotSendHeader\n",
      "            ResponseNotReady\n",
      "         BadStatusLine\n",
      "            RemoteDisconnected\n",
      "         LineTooLong\n",
      "      InteractivelyDefined\n",
      "      KillEmbedded\n",
      "      Error\n",
      "         NoSuchProcess\n",
      "            ZombieProcess\n",
      "         AccessDenied\n",
      "         TimeoutExpired\n",
      "      _Ipv6UnsupportedError\n",
      "      QueueEmpty\n",
      "      QueueFull\n",
      "      DebuggerInitializationError\n",
      "      ExpatError\n",
      "      Error\n",
      "         ProtocolError\n",
      "         ResponseError\n",
      "         Fault\n",
      "      ParseBaseException\n",
      "         ParseException\n",
      "         ParseFatalException\n",
      "            ParseSyntaxException\n",
      "      RecursiveGrammarException\n",
      "      ResolutionError\n",
      "         VersionConflict\n",
      "            ContextualVersionConflict\n",
      "         DistributionNotFound\n",
      "         UnknownExtra\n",
      "      _Error\n",
      "      UnableToResolveVariableException\n",
      "      InvalidTypeInArgsException\n",
      "   GeneratorExit\n",
      "   SystemExit\n",
      "   KeyboardInterrupt\n",
      "   CancelledError\n",
      "   AbortThread\n"
     ]
    }
   ],
   "source": [
    "import inspect\n",
    "\n",
    "def python_exception_hierarchy(exception_class, depth=0):\n",
    "    print(\" \" * depth + exception_class.__name__)\n",
    "    \n",
    "    for item in exception_class.__subclasses__():\n",
    "        python_exception_hierarchy(item, depth + 3)\n",
    "        \n",
    "print(\"Python Exception Hierarchy: \")\n",
    "python_exception_hierarchy(BaseException)"
   ]
  },
  {
   "cell_type": "markdown",
   "id": "59e8c651-d793-4d40-b72e-cb6ee7f9acae",
   "metadata": {},
   "source": [
    "### Q3. What errors are defined in the ArithmeticError class? Explain any two with an example."
   ]
  },
  {
   "cell_type": "markdown",
   "id": "7f8deb65-0b1e-4882-ad39-9f29c5ca3d14",
   "metadata": {},
   "source": [
    "The errors defined in the ArithmeticErro class are:\n",
    "\n",
    "ArithmeticError:\n",
    "         FloatingPointError\n",
    "         OverflowError\n",
    "         ZeroDivisionError\n",
    "            DivisionByZero\n",
    "            DivisionUndefined\n",
    "         DecimalException\n",
    "            Clamped\n",
    "            Rounded\n",
    "               Underflow\n",
    "               Overflow\n",
    "            Inexact\n",
    "               Underflow\n",
    "               Overflow\n",
    "            Subnormal\n",
    "               Underflow\n",
    "            DivisionByZero\n",
    "            FloatOperation\n",
    "            InvalidOperation\n",
    "               ConversionSyntax\n",
    "               DivisionImpossible\n",
    "               DivisionUndefined\n",
    "               InvalidContext"
   ]
  },
  {
   "cell_type": "markdown",
   "id": "e4d347a6-5224-45a6-b142-89fe32260f87",
   "metadata": {},
   "source": [
    "ZeroDivsionError: it is raised when you attempt to divide any number by 0."
   ]
  },
  {
   "cell_type": "code",
   "execution_count": 6,
   "id": "c9190008-e67f-4f48-98e6-ce997a477acd",
   "metadata": {},
   "outputs": [
    {
     "ename": "ZeroDivisionError",
     "evalue": "division by zero",
     "output_type": "error",
     "traceback": [
      "\u001b[0;31m---------------------------------------------------------------------------\u001b[0m",
      "\u001b[0;31mZeroDivisionError\u001b[0m                         Traceback (most recent call last)",
      "Cell \u001b[0;32mIn[6], line 1\u001b[0m\n\u001b[0;32m----> 1\u001b[0m \u001b[38;5;241;43m10\u001b[39;49m\u001b[38;5;241;43m/\u001b[39;49m\u001b[38;5;241;43m0\u001b[39;49m\n",
      "\u001b[0;31mZeroDivisionError\u001b[0m: division by zero"
     ]
    }
   ],
   "source": [
    "10/0"
   ]
  },
  {
   "cell_type": "markdown",
   "id": "374004a0-dc69-446c-a871-6cfb58c8a439",
   "metadata": {},
   "source": [
    "OverflowError: it is raised when an arithmetic operation exceeds the limits of the current data type thus causing an overflow condtion."
   ]
  },
  {
   "cell_type": "code",
   "execution_count": 3,
   "id": "3fc34056-3acc-4938-988b-8bb8e1053d68",
   "metadata": {},
   "outputs": [
    {
     "name": "stdout",
     "output_type": "stream",
     "text": [
      "This is an OverFlowError:  math range error\n"
     ]
    }
   ],
   "source": [
    "import math\n",
    "try:\n",
    "    math.exp(999)\n",
    "except OverflowError as e:\n",
    "    print(\"This is an OverFlowError: \",e)"
   ]
  },
  {
   "cell_type": "markdown",
   "id": "a67bf87f-2063-429c-9037-e0e12cd19890",
   "metadata": {},
   "source": [
    "### Q4. Why LookupError class is used? Explain with an example KeyError and IndexError."
   ]
  },
  {
   "cell_type": "markdown",
   "id": "9398d745-e77d-4325-98e2-43ffebe586dc",
   "metadata": {},
   "source": [
    "LookupError class is used for looking up or indexing element in a collection, sequence, or mapping data structure."
   ]
  },
  {
   "cell_type": "markdown",
   "id": "b722a5cc-514c-4846-88ae-af14a6047305",
   "metadata": {},
   "source": [
    "KeyError: it is raised when you try to access a dictionary or objects similar to dictionary using a key that does not exist in the dictionary."
   ]
  },
  {
   "cell_type": "code",
   "execution_count": 5,
   "id": "aab26b46-b828-45da-b79e-a3e4cff6337f",
   "metadata": {},
   "outputs": [
    {
     "ename": "KeyError",
     "evalue": "'Apple'",
     "output_type": "error",
     "traceback": [
      "\u001b[0;31m---------------------------------------------------------------------------\u001b[0m",
      "\u001b[0;31mKeyError\u001b[0m                                  Traceback (most recent call last)",
      "Cell \u001b[0;32mIn[5], line 3\u001b[0m\n\u001b[1;32m      1\u001b[0m my_fruits \u001b[38;5;241m=\u001b[39m {\u001b[38;5;241m1\u001b[39m:\u001b[38;5;124m\"\u001b[39m\u001b[38;5;124mApple\u001b[39m\u001b[38;5;124m\"\u001b[39m, \u001b[38;5;241m2\u001b[39m: \u001b[38;5;124m\"\u001b[39m\u001b[38;5;124mBannanna\u001b[39m\u001b[38;5;124m\"\u001b[39m, \u001b[38;5;241m3\u001b[39m: \u001b[38;5;124m\"\u001b[39m\u001b[38;5;124mOrange\u001b[39m\u001b[38;5;124m\"\u001b[39m, \u001b[38;5;241m4\u001b[39m : \u001b[38;5;124m\"\u001b[39m\u001b[38;5;124mGrapes\u001b[39m\u001b[38;5;124m\"\u001b[39m}\n\u001b[0;32m----> 3\u001b[0m \u001b[43mmy_fruits\u001b[49m\u001b[43m[\u001b[49m\u001b[38;5;124;43m\"\u001b[39;49m\u001b[38;5;124;43mApple\u001b[39;49m\u001b[38;5;124;43m\"\u001b[39;49m\u001b[43m]\u001b[49m\n\u001b[1;32m      4\u001b[0m \u001b[38;5;66;03m# try:\u001b[39;00m\n\u001b[1;32m      5\u001b[0m \u001b[38;5;66;03m#     my_fruits[\"Apple\"]\u001b[39;00m\n\u001b[1;32m      6\u001b[0m \u001b[38;5;66;03m# except Exception as e:\u001b[39;00m\n\u001b[1;32m      7\u001b[0m \u001b[38;5;66;03m#     print(\"KeyError: \",e)\u001b[39;00m\n",
      "\u001b[0;31mKeyError\u001b[0m: 'Apple'"
     ]
    }
   ],
   "source": [
    "my_fruits = {1:\"Apple\", 2: \"Bannanna\", 3: \"Orange\", 4 : \"Grapes\"}\n",
    "\n",
    "my_fruits[\"Apple\"]\n",
    "# try:\n",
    "#     my_fruits[\"Apple\"]\n",
    "# except Exception as e:\n",
    "#     print(\"KeyError: \",e)"
   ]
  },
  {
   "cell_type": "markdown",
   "id": "12a37de1-a646-4af3-a417-1b9093d001ad",
   "metadata": {},
   "source": [
    "IndexError: is raised when you tried to access an index that is out of range."
   ]
  },
  {
   "cell_type": "code",
   "execution_count": 6,
   "id": "0378bac8-8f01-4b00-b86f-d64f5952b18b",
   "metadata": {},
   "outputs": [
    {
     "ename": "IndexError",
     "evalue": "list index out of range",
     "output_type": "error",
     "traceback": [
      "\u001b[0;31m---------------------------------------------------------------------------\u001b[0m",
      "\u001b[0;31mIndexError\u001b[0m                                Traceback (most recent call last)",
      "Cell \u001b[0;32mIn[6], line 3\u001b[0m\n\u001b[1;32m      1\u001b[0m my_list \u001b[38;5;241m=\u001b[39m [\u001b[38;5;241m1\u001b[39m,\u001b[38;5;241m2\u001b[39m,\u001b[38;5;241m3\u001b[39m,\u001b[38;5;241m4\u001b[39m,\u001b[38;5;241m5\u001b[39m,\u001b[38;5;241m6\u001b[39m]\n\u001b[0;32m----> 3\u001b[0m \u001b[43mmy_list\u001b[49m\u001b[43m[\u001b[49m\u001b[38;5;241;43m7\u001b[39;49m\u001b[43m]\u001b[49m\n",
      "\u001b[0;31mIndexError\u001b[0m: list index out of range"
     ]
    }
   ],
   "source": [
    "my_list = [1,2,3,4,5,6]\n",
    "\n",
    "my_list[7]"
   ]
  },
  {
   "cell_type": "markdown",
   "id": "31fd47ef-fa83-4c1b-a5af-06000a305177",
   "metadata": {},
   "source": [
    "### Q5. Explain ImportError. What is ModuleNotFoundError?"
   ]
  },
  {
   "cell_type": "markdown",
   "id": "9968eb6e-0aef-43a6-9a0b-576edbb6e5f2",
   "metadata": {},
   "source": [
    "ImportError: is raised when you are trying to import a module that is not found or that cannot be imported"
   ]
  },
  {
   "cell_type": "code",
   "execution_count": 8,
   "id": "1793c960-2992-444a-afe0-d9f14c034bd6",
   "metadata": {},
   "outputs": [
    {
     "ename": "ImportError",
     "evalue": "cannot import name 'my_name' from 'math' (/opt/conda/lib/python3.10/lib-dynload/math.cpython-310-x86_64-linux-gnu.so)",
     "output_type": "error",
     "traceback": [
      "\u001b[0;31m---------------------------------------------------------------------------\u001b[0m",
      "\u001b[0;31mImportError\u001b[0m                               Traceback (most recent call last)",
      "Cell \u001b[0;32mIn[8], line 1\u001b[0m\n\u001b[0;32m----> 1\u001b[0m \u001b[38;5;28;01mfrom\u001b[39;00m \u001b[38;5;21;01mmath\u001b[39;00m \u001b[38;5;28;01mimport\u001b[39;00m my_name\n",
      "\u001b[0;31mImportError\u001b[0m: cannot import name 'my_name' from 'math' (/opt/conda/lib/python3.10/lib-dynload/math.cpython-310-x86_64-linux-gnu.so)"
     ]
    }
   ],
   "source": [
    "from math import my_name"
   ]
  },
  {
   "cell_type": "markdown",
   "id": "4e9c06c8-b828-4776-bc9e-6a27abf9a3e4",
   "metadata": {},
   "source": [
    "ModuleNotFoundError: is subclass of ImportError that is raised when you try to import a module that cannot be found."
   ]
  },
  {
   "cell_type": "code",
   "execution_count": 9,
   "id": "f2da6527-92b4-4b89-8445-ab495e95201c",
   "metadata": {},
   "outputs": [
    {
     "ename": "ModuleNotFoundError",
     "evalue": "No module named 'my_import'",
     "output_type": "error",
     "traceback": [
      "\u001b[0;31m---------------------------------------------------------------------------\u001b[0m",
      "\u001b[0;31mModuleNotFoundError\u001b[0m                       Traceback (most recent call last)",
      "Cell \u001b[0;32mIn[9], line 1\u001b[0m\n\u001b[0;32m----> 1\u001b[0m \u001b[38;5;28;01mimport\u001b[39;00m \u001b[38;5;21;01mmy_import\u001b[39;00m\n",
      "\u001b[0;31mModuleNotFoundError\u001b[0m: No module named 'my_import'"
     ]
    }
   ],
   "source": [
    "import my_import"
   ]
  },
  {
   "cell_type": "markdown",
   "id": "6f7d0845-cac1-469b-9669-1522dedaa159",
   "metadata": {},
   "source": [
    "### Q6. List down some best practices for exception handling in python. "
   ]
  },
  {
   "cell_type": "markdown",
   "id": "a4f2c2d8-a1e7-42e9-9178-34d0b23bb15c",
   "metadata": {},
   "source": [
    ". Always use a specific exception\n",
    ". Always print a valid message\n",
    ". Always try to log\n",
    ". Avoid writting multiple exception handling\n",
    ". Prepare a proper documentation\n",
    ". Cleanup all the resources"
   ]
  },
  {
   "cell_type": "code",
   "execution_count": null,
   "id": "3fc83257-59ba-4ae3-92eb-9f8ec8a52adb",
   "metadata": {},
   "outputs": [],
   "source": []
  }
 ],
 "metadata": {
  "kernelspec": {
   "display_name": "Python 3 (ipykernel)",
   "language": "python",
   "name": "python3"
  },
  "language_info": {
   "codemirror_mode": {
    "name": "ipython",
    "version": 3
   },
   "file_extension": ".py",
   "mimetype": "text/x-python",
   "name": "python",
   "nbconvert_exporter": "python",
   "pygments_lexer": "ipython3",
   "version": "3.10.8"
  }
 },
 "nbformat": 4,
 "nbformat_minor": 5
}
