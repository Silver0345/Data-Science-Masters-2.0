{
 "cells": [
  {
   "cell_type": "markdown",
   "id": "b3a9e8e0-b7b7-4b62-b3cb-9a719160862b",
   "metadata": {},
   "source": [
    "# Assignment-1"
   ]
  },
  {
   "cell_type": "markdown",
   "id": "85f71a91-1dff-45ba-b642-7a432673222b",
   "metadata": {},
   "source": [
    "### Q1. Create one variable containing following type of data:\n",
    "- (i) string\n",
    "- (ii) list\n",
    "- (iii) float\n",
    "- (iv) tuple"
   ]
  },
  {
   "cell_type": "code",
   "execution_count": 1,
   "id": "1a490d10-7bdc-4334-9aba-d3a28f58f755",
   "metadata": {},
   "outputs": [],
   "source": [
    "strVar = \"Hello World!\" \n",
    "listVar = [1,2,3,'hi',2.5,'Hello!', True]\n",
    "fltVar = 3.5\n",
    "tupVar = (\"Welcome\", \"to\", \"PW\")"
   ]
  },
  {
   "cell_type": "markdown",
   "id": "f92b50b3-1de7-4af1-83ac-e26c6beecde6",
   "metadata": {},
   "source": [
    "### Q2. Given are some following variables containing data:\n",
    "- (i) var1 = ‘ ‘   --var1 is a string type\n",
    "- (ii) var2 = ‘[ DS , ML , Python]’ --var2 is of a string type.\n",
    "- (iii) var3 = [ ‘DS’ , ’ML’ , ‘Python’ ],  --var3 is of list type.\n",
    "- (iv) var4 = 1.  --var4 is of integer type.\n",
    "- What will be the data type of the above given variable."
   ]
  },
  {
   "cell_type": "markdown",
   "id": "5d8a7cd0-8900-40b8-9216-d5f45f36c576",
   "metadata": {},
   "source": [
    "### Q3. Explain the use of the following operators using an example:\n",
    "- (i) / is the division operator, it is used to perform division\n",
    "- (ii) % is the modulo operator, it is use to return the remeinder after a division\n",
    "- (iii) // is the floor division operator, it used to return the quotient after a division\n",
    "- (iv) ** is the power operator, it is used to return the result of x to the power of n calculation (x**n)."
   ]
  },
  {
   "cell_type": "markdown",
   "id": "174ab666-8d0f-400b-8f29-220e2b3cba26",
   "metadata": {},
   "source": [
    "### Q4. Create a list of length 10 of your choice containing multiple types of data. Using for loop print the element and its data type."
   ]
  },
  {
   "cell_type": "code",
   "execution_count": 2,
   "id": "c8dd1552-6585-4fe3-818b-553d62638b66",
   "metadata": {},
   "outputs": [
    {
     "name": "stdout",
     "output_type": "stream",
     "text": [
      "1 :  <class 'int'>\n",
      "2 :  <class 'int'>\n",
      "3 :  <class 'int'>\n",
      "hi :  <class 'str'>\n",
      "2.5 :  <class 'float'>\n",
      "Hello! :  <class 'str'>\n",
      "True :  <class 'bool'>\n",
      "Tea :  <class 'str'>\n",
      "Coffe :  <class 'str'>\n",
      "25000 :  <class 'int'>\n"
     ]
    }
   ],
   "source": [
    "listVar = [1,2,3,'hi',2.5,'Hello!', True, 'Tea', \"Coffe\", 25000]\n",
    "\n",
    "for item in listVar:\n",
    "    print(item , ': ' , type(item))"
   ]
  },
  {
   "cell_type": "markdown",
   "id": "f5ecd508-203c-4820-8b3a-734665781f6c",
   "metadata": {},
   "source": [
    "### Q5. Using a while loop, verify if the number A is purely divisible by number B and if so then how many times it can be divisible."
   ]
  },
  {
   "cell_type": "code",
   "execution_count": 3,
   "id": "6f12c4eb-a185-4488-aa05-674fcfcc6059",
   "metadata": {},
   "outputs": [
    {
     "name": "stdin",
     "output_type": "stream",
     "text": [
      "Enter A:  1000\n",
      "Enter B:  3\n"
     ]
    },
    {
     "name": "stdout",
     "output_type": "stream",
     "text": [
      "1000 is divisble by 3: 0 time(s).\n"
     ]
    }
   ],
   "source": [
    "a = int(input(\"Enter A: \"))\n",
    "b = int(input(\"Enter B: \"))\n",
    "n= 0\n",
    "\n",
    "while(True):\n",
    "    if(a % b == 0):\n",
    "        a = a // b\n",
    "        n= n+1\n",
    "    else:        \n",
    "        break\n",
    "    \n",
    "    \n",
    "print( a,f\"is divisble by {b}: {n} time(s).\") "
   ]
  },
  {
   "cell_type": "markdown",
   "id": "c9dffa14-069e-4062-a64d-8e3d59f405e1",
   "metadata": {},
   "source": [
    "### Q6. Create a list containing 25 int type data. Using for loop and if-else condition print if the element is divisible by 3 or not."
   ]
  },
  {
   "cell_type": "code",
   "execution_count": 4,
   "id": "f943fdda-065c-4550-b566-bfab3ced1e87",
   "metadata": {},
   "outputs": [
    {
     "name": "stdout",
     "output_type": "stream",
     "text": [
      "23 is not divible by 3\n",
      "9875 is not divible by 3\n",
      "99 is divible by 3\n",
      "425 is not divible by 3\n",
      "8576 is not divible by 3\n",
      "4254 is divible by 3\n",
      "6958 is not divible by 3\n",
      "636 is divible by 3\n",
      "454 is not divible by 3\n",
      "134 is not divible by 3\n",
      "564 is divible by 3\n",
      "908 is not divible by 3\n",
      "6536876 is not divible by 3\n",
      "563 is not divible by 3\n",
      "8979 is divible by 3\n",
      "89 is not divible by 3\n",
      "5780 is not divible by 3\n",
      "790 is not divible by 3\n",
      "4635 is divible by 3\n",
      "245667 is divible by 3\n",
      "36543 is divible by 3\n",
      "5635 is not divible by 3\n",
      "2425 is not divible by 3\n",
      "85464 is divible by 3\n",
      "2456 is not divible by 3\n"
     ]
    }
   ],
   "source": [
    "var25 = [23,9875,99,425,8576,4254,6958,636,454,134,564,908,6536876,563,8979,89,5780,790,4635,245667,36543,5635,2425,85464,2456]\n",
    "\n",
    "for item in var25:\n",
    "    if(item%3 ==0):\n",
    "        print(item, \"is divible by 3\")\n",
    "    else:\n",
    "        print(item, \"is not divible by 3\")\n"
   ]
  },
  {
   "cell_type": "markdown",
   "id": "6f49a3fc-56de-495e-be10-dba862627e60",
   "metadata": {
    "tags": []
   },
   "source": [
    "### Q7. What do you understand about mutable and immutable data types? Give examples for both showing this property."
   ]
  },
  {
   "cell_type": "markdown",
   "id": "519d58b4-afb2-4a2b-b65a-9387ba1267f3",
   "metadata": {},
   "source": [
    "- Mutable data types are data types that you can change their values like: lists, sets, and dictionaries;\n",
    "- Immutable data types are data types that you cannot change their values like: strings and tuples."
   ]
  },
  {
   "cell_type": "code",
   "execution_count": 7,
   "id": "2de688a4-01e0-408b-8a88-7ede90eee273",
   "metadata": {},
   "outputs": [
    {
     "name": "stdout",
     "output_type": "stream",
     "text": [
      "[123, 578, 'Hello!', 'World', False]\n"
     ]
    }
   ],
   "source": [
    "# mutable data type is data that it's value or element(s} of its value can be changed once assigned to a varible, like list data type\n",
    "l1 = [123, 578, \"Hello!\", \"World\", False]\n",
    "print(l1)"
   ]
  },
  {
   "cell_type": "code",
   "execution_count": 8,
   "id": "7c74a8ad-c76b-44e3-9d05-f89860919afa",
   "metadata": {},
   "outputs": [
    {
     "data": {
      "text/plain": [
       "[246, 578, 'Hello!', 'Worldwide', True]"
      ]
     },
     "execution_count": 8,
     "metadata": {},
     "output_type": "execute_result"
    }
   ],
   "source": [
    "l1[0] = l1[0]*2\n",
    "l1[-1] = True\n",
    "l1[-2] = l1[-2] + \"wide\"\n",
    "\n",
    "l1"
   ]
  },
  {
   "cell_type": "code",
   "execution_count": 9,
   "id": "df512f79-f233-4aab-9326-fa25a9108e18",
   "metadata": {},
   "outputs": [
    {
     "data": {
      "text/plain": [
       "'Hello World!'"
      ]
     },
     "execution_count": 9,
     "metadata": {},
     "output_type": "execute_result"
    }
   ],
   "source": [
    "# immutable data type is data that it's value or element(s} of its value cannot be changed once it is assigned to a variable, like the string data type\n",
    "s1 = \"Hello World!\"\n",
    "s1"
   ]
  },
  {
   "cell_type": "code",
   "execution_count": 10,
   "id": "021320eb-a2fd-45ea-9804-15c1cc38dc4c",
   "metadata": {},
   "outputs": [
    {
     "ename": "TypeError",
     "evalue": "'str' object does not support item assignment",
     "output_type": "error",
     "traceback": [
      "\u001b[1;31m---------------------------------------------------------------------------\u001b[0m",
      "\u001b[1;31mTypeError\u001b[0m                                 Traceback (most recent call last)",
      "Input \u001b[1;32mIn [10]\u001b[0m, in \u001b[0;36m<cell line: 1>\u001b[1;34m()\u001b[0m\n\u001b[1;32m----> 1\u001b[0m s1[\u001b[38;5;241m-\u001b[39m\u001b[38;5;241m1\u001b[39m] \u001b[38;5;241m=\u001b[39m  \u001b[38;5;124m\"\u001b[39m\u001b[38;5;124m?\u001b[39m\u001b[38;5;124m\"\u001b[39m\n\u001b[0;32m      2\u001b[0m s1\n",
      "\u001b[1;31mTypeError\u001b[0m: 'str' object does not support item assignment"
     ]
    }
   ],
   "source": [
    "s1[-1] =  \"?\"\n",
    "s1"
   ]
  },
  {
   "cell_type": "code",
   "execution_count": null,
   "id": "baa47167-1f82-4228-be70-af2c5082c5ae",
   "metadata": {},
   "outputs": [],
   "source": []
  }
 ],
 "metadata": {
  "kernelspec": {
   "display_name": "Python 3 (ipykernel)",
   "language": "python",
   "name": "python3"
  },
  "language_info": {
   "codemirror_mode": {
    "name": "ipython",
    "version": 3
   },
   "file_extension": ".py",
   "mimetype": "text/x-python",
   "name": "python",
   "nbconvert_exporter": "python",
   "pygments_lexer": "ipython3",
   "version": "3.9.13"
  }
 },
 "nbformat": 4,
 "nbformat_minor": 5
}
