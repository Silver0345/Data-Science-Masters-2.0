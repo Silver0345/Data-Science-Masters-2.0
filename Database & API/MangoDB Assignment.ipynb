{
 "cells": [
  {
   "cell_type": "markdown",
   "id": "30f7a2b5-f39f-4e68-84be-7c4a703e6a1c",
   "metadata": {},
   "source": [
    "# MySql Assignment"
   ]
  },
  {
   "cell_type": "markdown",
   "id": "31fdf3fa-1c14-4175-90ca-926c54e18670",
   "metadata": {
    "tags": []
   },
   "source": [
    "### Q1. What is a database? Differentiate between SQL and NoSQL databases."
   ]
  },
  {
   "cell_type": "markdown",
   "id": "e8d57272-b2c4-4ebc-9bb6-ae4c33fdbd5f",
   "metadata": {},
   "source": [
    "Database is a structured collection of information or data that is organized and stored in a way that allows for efficient retrieval, management, and manipulation of data."
   ]
  },
  {
   "cell_type": "markdown",
   "id": "f7cd7e39-33d8-4dc3-b781-806fb89d90ab",
   "metadata": {},
   "source": [
    "The difference between SQL and NoSQL databases is that SQL databse are designed to handle structured relational schema to the data's organization while NoSQL databaese are designed to handle unstructured and semistructured data and offer more flexibility in terms of data organization."
   ]
  },
  {
   "cell_type": "markdown",
   "id": "1b8e6cad-89cc-424d-8935-011172677ca2",
   "metadata": {},
   "source": [
    "### Q2. What is DDL? Explain why CREATE, DROP, ALTER, and TRUNCATE are used with an example."
   ]
  },
  {
   "cell_type": "markdown",
   "id": "45ba0991-d29b-458c-aa4a-a910e3be952d",
   "metadata": {},
   "source": [
    "**DDL** stands for Data Definition Language; it is uded to define, manage, and manipulate the structure of a database."
   ]
  },
  {
   "cell_type": "markdown",
   "id": "6cad0aad-e716-468f-9ace-9b7e082850d1",
   "metadata": {},
   "source": [
    "**CREATE** is used to create a new databse objects, such as tables, indexes, views, and more\n",
    "\n",
    "Example:\n",
    "\n",
    "CREATE TABLE Students (\n",
    "\n",
    "    StudentID int PRIMARY KEY,\n",
    "    \n",
    "    FirstName VARCHAR(50),\n",
    "    \n",
    "    LastNmae VARCHAR(50),\n",
    "    \n",
    "    Email VARCHAR(100)\n",
    "\n",
    "};\n",
    "\n",
    "\n",
    "**DROP** is used to remove or delete existing database objects; it permanently deltes the specified object and all related data.\n",
    "\n",
    "Example:\n",
    "\n",
    "DROP TABLE Students;\n",
    "\n",
    "\n",
    "**ALTER** is used to modify the structured of an existing databse objects, such as adding, modifying, and deleting columns in a table.\n",
    "\n",
    "Example:\n",
    "\n",
    "ALTER TABLE Students \n",
    "\n",
    "ADD PhoneNumber VARCHAR(15);\n",
    "\n",
    "\n",
    "**TRUNCATE** is used to remove all rows from a table while keeping the table's structure intact.\n",
    "\n",
    "Example:\n",
    "\n",
    "TRUNCATE TABLE Students;"
   ]
  },
  {
   "cell_type": "markdown",
   "id": "9a7588e4-57c6-4519-bd30-206342ead0de",
   "metadata": {
    "tags": []
   },
   "source": [
    "### Q3. What is DML? Explain INSERT, UPDATE, and DELETE with an example."
   ]
  },
  {
   "cell_type": "markdown",
   "id": "085e8b9d-4889-4869-a5dc-3dc96f3d9bf2",
   "metadata": {},
   "source": [
    "**DML** stands fro Data Manipulation Language, it used for manipulating data stroed in databse.\n",
    "\n",
    "**INNSERT** is used to add new records(rows) into databse table.\n",
    "\n",
    "Example:\n",
    "\n",
    "INSERT INTO Students (StudentID, FirstName, LastName, Email)\n",
    "\n",
    "VALUES (001, \"John\", \"Doe\", \"example1@gmail.com\");\n",
    "\n",
    "**UPDATE** is used to modify existing records(rows) in a databse table.\n",
    "\n",
    "Example:\n",
    "\n",
    "UPDATE Students\n",
    "SET Email = 'examplejohn@gamil.com'\n",
    "WHERE StudentID = 001;\n",
    "\n",
    "**DELETE** is used to remove records(rows) from a databse table.\n",
    "\n",
    "Example:\n",
    "\n",
    "DELETE FROM Students\n",
    "WHERE StudentID = 001;"
   ]
  },
  {
   "cell_type": "markdown",
   "id": "d9e820a2-e82b-421f-85d1-41846565aee7",
   "metadata": {},
   "source": [
    "### Q4. What is DQL? Explain SELECT with an example."
   ]
  },
  {
   "cell_type": "markdown",
   "id": "646a6a6b-7dff-47d4-baf5-49f9e37cb545",
   "metadata": {},
   "source": [
    "**DQL** stands for Data Query Language, it used for querying and retrieving data from a databse.\n",
    "\n",
    "**SELECT** is used to retrieve data from one or more tables in a databse.\n",
    "\n",
    "Example:\n",
    "\n",
    "SELECT * FROM Students;\n",
    "\n",
    "this query will retrieve all columns from the \"Students\" table. "
   ]
  },
  {
   "cell_type": "markdown",
   "id": "da81b4da-b1b0-4840-9495-4049775d8069",
   "metadata": {},
   "source": [
    "### Q5. Explain Primary Key and Foreign Key."
   ]
  },
  {
   "cell_type": "markdown",
   "id": "bb871f0f-a59b-4639-a9f2-2bf3a753308b",
   "metadata": {},
   "source": [
    "Primary Key: is a unique identifier used to represent a row or record in a table.\n",
    "\n",
    "Foreign Key: is used to establish a link between two tables by ensuring the data in the Foreign Key colmn(s) matches the data in the Primary Key column(s) of another table."
   ]
  },
  {
   "cell_type": "markdown",
   "id": "dba9db1a-15bd-4ce6-b32d-350d36cdb0bb",
   "metadata": {},
   "source": [
    "### Q6. Write a python code to connect MySQL to python. Explain the cursor() and execute() method."
   ]
  },
  {
   "cell_type": "code",
   "execution_count": 9,
   "id": "338cdef4-5b89-4ff4-824d-88568196f55f",
   "metadata": {
    "tags": []
   },
   "outputs": [
    {
     "name": "stdout",
     "output_type": "stream",
     "text": [
      "Failed to connect to the database:  name 'mysql' is not defined\n",
      "Failed to execute query:  name 'mydb' is not defined\n"
     ]
    }
   ],
   "source": [
    "import myql.connector\n",
    "\n",
    "try:\n",
    "    mydb = mysql.connector.connect(\n",
    "        host=\"localhost\",\n",
    "        user = 'user_name',\n",
    "        password = 'password'\n",
    "    )\n",
    "except Exception as e:\n",
    "    print(\"Failed to connect to the database: \",e)\n",
    "\n",
    "try:\n",
    "    # cursor() is a database object that allows you to execute SQL queries.\n",
    "    mycursor = mydb.cursor()\n",
    "\n",
    "    # execute() is a cursor() that allows you to execute the prepared statement(s)\n",
    "    mycursor.execute(\"SELECT * FROM TableName\")\n",
    "except Exception as e:\n",
    "    print(\"Failed to execute query: \",e)\n"
   ]
  },
  {
   "cell_type": "markdown",
   "id": "e16fcc67-fec3-4af0-9151-e91af87b8841",
   "metadata": {
    "tags": []
   },
   "source": [
    "### Q7. Give the order of execution of SQL clauses in an SQL query."
   ]
  },
  {
   "cell_type": "markdown",
   "id": "b9a7628f-3ebf-4d0a-b415-e79c0373a2b9",
   "metadata": {},
   "source": [
    "1. FROM\n",
    "2. JOIN\n",
    "3. WHERE\n",
    "4. GROUP BY\n",
    "5. HAVING\n",
    "6. SELECT\n",
    "7. DISTINCT\n",
    "8. ORDER BY\n",
    "9. LIMIT/OFFSET"
   ]
  },
  {
   "cell_type": "code",
   "execution_count": null,
   "id": "1f621823-f8e7-4cea-8972-7908650f77d1",
   "metadata": {},
   "outputs": [],
   "source": []
  }
 ],
 "metadata": {
  "kernelspec": {
   "display_name": "Python 3 (ipykernel)",
   "language": "python",
   "name": "python3"
  },
  "language_info": {
   "codemirror_mode": {
    "name": "ipython",
    "version": 3
   },
   "file_extension": ".py",
   "mimetype": "text/x-python",
   "name": "python",
   "nbconvert_exporter": "python",
   "pygments_lexer": "ipython3",
   "version": "3.9.17"
  }
 },
 "nbformat": 4,
 "nbformat_minor": 5
}
