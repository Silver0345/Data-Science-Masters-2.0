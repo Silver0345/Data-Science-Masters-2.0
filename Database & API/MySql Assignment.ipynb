{
 "cells": [
  {
   "cell_type": "markdown",
   "id": "30f7a2b5-f39f-4e68-84be-7c4a703e6a1c",
   "metadata": {},
   "source": [
    "# MongoDB Assignment"
   ]
  },
  {
   "cell_type": "markdown",
   "id": "31fdf3fa-1c14-4175-90ca-926c54e18670",
   "metadata": {
    "tags": []
   },
   "source": [
    "### Q1.What is MongoDB? Explain non-relational databases in short. In which scenarios it is preferred to use MongoDB over SQL databases?"
   ]
  },
  {
   "cell_type": "markdown",
   "id": "5615a74d-2b05-4db3-8b6b-5e8d33707b0e",
   "metadata": {},
   "source": [
    "MongoDB is a popular NoSQL or non-relational database management system that stores data using a document-oriented data model.\n",
    "\n",
    "Non_Relational-Databses: or NoSQL is a category of a databse management system that deal with unstructured or semi-structured data.\n",
    "\n",
    "It is prefered to use MongoDB over SQL databases in scenerior where the data structure is unknown or is evolving, where horizontal scalability is crucial, and high availability and fault tolerance are essencial."
   ]
  },
  {
   "cell_type": "markdown",
   "id": "1b8e6cad-89cc-424d-8935-011172677ca2",
   "metadata": {},
   "source": [
    "### Q2. State and Explain the features of MongoDB."
   ]
  },
  {
   "cell_type": "markdown",
   "id": "eab3af41-46f0-4369-9ed8-47832ff6a7fd",
   "metadata": {},
   "source": [
    "1. Document-Oriented Data Model: ability to store data in JSON like document format.\n",
    "2. Scalability: it is designed for horizontal scalability by allowing you to add more servers or nodes to distribute data and handle increasing traffic.\n",
    "3. High Availabiliy: MongoDB provides built-in replication and failover support for ensuring data avilabily and fault tolerance.\n",
    "4. Flexible Schema: it allows you to change the structure of documents without affecting existing data.\n",
    "5. Rich Query Language: it supports a powerful query language that includes a wide range of query operators for filtering, sorting, and aggregating dat.\n",
    "6. Indexing: it allows the creation of custom indexes to improve query performance\n",
    "7. Security: it provides authenticaction, authorization, and encryption features to ensure data security.\n",
    "8. Robust Ecosystem: it has a thriving community and rich ecosystem of drivers, libraries, and tools for various programming languages and platforms.\n",
    "9. Cloud Integration: MongoDB Atlas is a fully managed database service provided my MongoDB, Inc. which simplifies databes deployment and management in the cloud.\n"
   ]
  },
  {
   "cell_type": "markdown",
   "id": "9a7588e4-57c6-4519-bd30-206342ead0de",
   "metadata": {
    "tags": []
   },
   "source": [
    "### Q3. Write a code to connect MongoDB to Python. Also, create a database and a collection in MongoDB."
   ]
  },
  {
   "cell_type": "code",
   "execution_count": null,
   "id": "98f6adef-04b2-46fe-86b3-92d9ab232043",
   "metadata": {},
   "outputs": [],
   "source": [
    "url = \"mongodb+srv://<user_name>:<password>@cluster0.lc3x0ch.mongodb.net/?retryWrites=true&w=majority\"\n",
    "\n",
    "# Create a new client and connect to the server\n",
    "client = MongoClient(url)\n",
    "\n",
    "# Send a ping to confirm a successful connection\n",
    "try:\n",
    "    client.admin.command('ping')\n",
    "    print(\"Pinged your deployment. You successfully connected to MongoDB!\")\n",
    "except Exception as e:\n",
    "    print(e)"
   ]
  },
  {
   "cell_type": "code",
   "execution_count": null,
   "id": "ff917b39-e5b0-4fa0-af4d-22117c4c6730",
   "metadata": {},
   "outputs": [],
   "source": [
    "db = client['courses']\n",
    "create_col = db[\"new_record\"]\n",
    "\n",
    "data = {\"instructor\": \"Mr. Mohamed\",\n",
    "        \"course_name\": \"Data Science\",\n",
    "        \"room\": \"stype 105\",\n",
    "        \"course_number\": \"CS475\"\n",
    "    \n",
    "}"
   ]
  },
  {
   "cell_type": "code",
   "execution_count": null,
   "id": "4b1dcc4c-e4c9-4bc2-ae14-f104c45717ca",
   "metadata": {},
   "outputs": [],
   "source": [
    "create_col.insert_one(data)"
   ]
  },
  {
   "cell_type": "markdown",
   "id": "d9e820a2-e82b-421f-85d1-41846565aee7",
   "metadata": {},
   "source": [
    "### Q4. Using the database and the collection created in question number 3, write a code to insert one record, and insert many records. Use the find() and find_one() methods to print the inserted record."
   ]
  },
  {
   "cell_type": "code",
   "execution_count": null,
   "id": "5e7b6e05-3edc-4ffa-be90-d02b8b552f1e",
   "metadata": {},
   "outputs": [],
   "source": [
    "one_data = {\"instructor\": \"Mohamed Issa\",\n",
    "        \"course_name\": \"Web Dev\",\n",
    "        \"room\": \"stype 555\",\n",
    "        \"course_number\": \"CS451\"\n",
    "    \n",
    "}\n",
    "\n",
    "\n",
    "many_data = [\n",
    "    {\n",
    "        \"name\": \"John Doe\",\n",
    "        \"email\": \"alice@example.com\",\n",
    "        \"age\": 25\n",
    "    },\n",
    "    {\n",
    "        \"name\": \"Bob Johnson\",\n",
    "        \"email\": \"bob@example.com\",\n",
    "        \"age\": 28\n",
    "    },\n",
    "    {\n",
    "        \"name\": \"Charlie Brown\",\n",
    "        \"email\": \"charlie@example.com\",\n",
    "        \"age\": 22\n",
    "    }\n",
    "]"
   ]
  },
  {
   "cell_type": "code",
   "execution_count": null,
   "id": "074fc759-4a3f-4212-886e-943f97aef756",
   "metadata": {},
   "outputs": [],
   "source": [
    "create_col.insert_one(one_data)"
   ]
  },
  {
   "cell_type": "code",
   "execution_count": null,
   "id": "2397010c-5ecc-41a1-a7c1-0bab5d62a3c7",
   "metadata": {},
   "outputs": [],
   "source": [
    "create_col.insert_many(one_data)"
   ]
  },
  {
   "cell_type": "code",
   "execution_count": null,
   "id": "c377ee75-def6-45fb-964b-ea2af0ce960b",
   "metadata": {},
   "outputs": [],
   "source": [
    "for i in create_col.find():\n",
    "    print(i)"
   ]
  },
  {
   "cell_type": "code",
   "execution_count": null,
   "id": "9748afb8-d14f-4c80-a2bc-430915007384",
   "metadata": {},
   "outputs": [],
   "source": [
    "create_col.find_one({\"name\": \"John Doe\"})"
   ]
  },
  {
   "cell_type": "markdown",
   "id": "da81b4da-b1b0-4840-9495-4049775d8069",
   "metadata": {},
   "source": [
    "### Q5. Explain how you can use the find() method to query the MongoDB database. Write a simple code to demonstrate this."
   ]
  },
  {
   "cell_type": "markdown",
   "id": "845c9932-fb72-48b3-83bb-6c069f0d2e0d",
   "metadata": {},
   "source": [
    "The 'find()' method allows you to specify filter criteria to retrieve documents that match those critria. "
   ]
  },
  {
   "cell_type": "code",
   "execution_count": null,
   "id": "a9042b91-7abc-4444-ba10-dbc6c43e5b7d",
   "metadata": {},
   "outputs": [],
   "source": [
    "create_col.find({\"age\": 25})"
   ]
  },
  {
   "cell_type": "markdown",
   "id": "dba9db1a-15bd-4ce6-b32d-350d36cdb0bb",
   "metadata": {},
   "source": [
    "### Q6. Explain the sort() method. Give an example to demonstrate sorting in MongoDB."
   ]
  },
  {
   "cell_type": "markdown",
   "id": "fb5cb15c-8519-4848-afd7-48577c9fff23",
   "metadata": {},
   "source": [
    "The 'sort()' method is used to speicify the order in which documents should be returned when querying a collection."
   ]
  },
  {
   "cell_type": "code",
   "execution_count": null,
   "id": "dd94743e-6e96-4369-beb9-b04f1369c698",
   "metadata": {},
   "outputs": [],
   "source": [
    "create_col.find({\"age\": {\"$gte\": 22}}).sort([(\"age\", pymongo.DESCENDING)])"
   ]
  },
  {
   "cell_type": "markdown",
   "id": "e16fcc67-fec3-4af0-9151-e91af87b8841",
   "metadata": {
    "tags": []
   },
   "source": [
    "### Q7. Explain why delete_one(), delete_many(), and drop() is used."
   ]
  },
  {
   "cell_type": "markdown",
   "id": "48695e39-7edd-41a8-9bc5-1d0def736ae2",
   "metadata": {},
   "source": [
    "The 'delete_one()' method is used to delete a single document from a MongoDB collection that matches a specific filter.\n",
    "\n",
    "The 'delete_many()' method is used to delete multiple documents from a MongoDB collection that matches a specific filter.\n",
    "\n",
    "The 'drop()' method is used to remove an entire MangoDB collection including all its documents and indexes."
   ]
  }
 ],
 "metadata": {
  "kernelspec": {
   "display_name": "Python 3 (ipykernel)",
   "language": "python",
   "name": "python3"
  },
  "language_info": {
   "codemirror_mode": {
    "name": "ipython",
    "version": 3
   },
   "file_extension": ".py",
   "mimetype": "text/x-python",
   "name": "python",
   "nbconvert_exporter": "python",
   "pygments_lexer": "ipython3",
   "version": "3.9.17"
  }
 },
 "nbformat": 4,
 "nbformat_minor": 5
}
