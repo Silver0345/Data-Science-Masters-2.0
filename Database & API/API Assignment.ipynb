{
 "cells": [
  {
   "cell_type": "markdown",
   "id": "30f7a2b5-f39f-4e68-84be-7c4a703e6a1c",
   "metadata": {},
   "source": [
    "# Web Api Assignment"
   ]
  },
  {
   "cell_type": "markdown",
   "id": "31fdf3fa-1c14-4175-90ca-926c54e18670",
   "metadata": {
    "tags": []
   },
   "source": [
    "### Q1.What is an API? Give an example, where an API is used in real life"
   ]
  },
  {
   "cell_type": "markdown",
   "id": "07c3ff5b-a5c6-4df7-99b9-a15d19c07b4a",
   "metadata": {},
   "source": [
    "**API** stands for Application Programming Interface. It is a set of rules and protocols that allows different software applications to communincate with each other.\n",
    "\n",
    "Example:\n",
    "\n",
    "Weather Forcast: wheather data providers offer API's that provide access to weather forecasts and current weather conditions. Wheather apps, websites and even smart home devices can use these API's to deliver real-time weather information to users."
   ]
  },
  {
   "cell_type": "markdown",
   "id": "1b8e6cad-89cc-424d-8935-011172677ca2",
   "metadata": {},
   "source": [
    "### Q2. Give advantages and disadvantages of using API. "
   ]
  },
  {
   "cell_type": "markdown",
   "id": "0392cd33-c3f4-4f75-b38d-09b6c1987378",
   "metadata": {},
   "source": [
    "**Advantages**:\n",
    "\n",
    "- Interoperability: its enableness of different software systems and platforms to comunicate and work together.\n",
    "- Resuse of Code: it allow developers to reuse existing code and functionality thus reducing development time and effort.\n",
    "- Rapid Development: it provide pre-built, well documented functions and services thus speeding up the development process.\n",
    "- Access to External Services: it offer access to external services and data sources thus expanding the capabilities of an application.\n",
    "- Scalability: it enable scalable arichitecture as application can leverage third-party services for tasks like authentication, storage, and messaging thus allowing them to handle increased loads and traffic.\n",
    "\n",
    "**Disadvantages**: \n",
    "\n",
    "- Security Risks: exposing API's can introduce security vulnerabilities if not properly secured.\n",
    "- Dependence on External Services: applications become dependent on the availability and reliability of external API's when they rely heavily on them.\n",
    "- Costs: access to certain API's may incur fees, particularly if an application exceeds usage quotas.\n",
    "- Versioning and Compatibility: maintaining backward compatibility and managing different versions of the API's can be complex as they evolve.\n",
    "- Data Privacy and Compliance: handlling user data through API's requires careful consideration of data privacy and compliance.\n",
    "- API Reliability: outage or changes in the API provider's policies can disrupt an application's functionality."
   ]
  },
  {
   "cell_type": "markdown",
   "id": "9a7588e4-57c6-4519-bd30-206342ead0de",
   "metadata": {
    "tags": []
   },
   "source": [
    "### Q3. What is a Web API? Differentiate between API and Web API"
   ]
  },
  {
   "cell_type": "markdown",
   "id": "0d835cdb-cb8d-4b5a-8608-66226fc61d6a",
   "metadata": {},
   "source": [
    "**Web API** or Web Application Programming Interface is a specific type of API that is designed to be accessible over the internet using standard web protocols such as HTTP.\n",
    "\n",
    "The difference between API and Web API is that Web API is commonly used to enable web services allowing clients to request and exchange data with server-side resources or services while API refer to any set of rules and protocols that allow one software component of interact with another; this interaction can occur within a single appliction or between different application and systems."
   ]
  },
  {
   "cell_type": "markdown",
   "id": "d9e820a2-e82b-421f-85d1-41846565aee7",
   "metadata": {},
   "source": [
    "### Q4. Explain REST and SOAP Architecture. Mention shortcomings of SOAP"
   ]
  },
  {
   "cell_type": "markdown",
   "id": "9b422f1d-b48a-4924-b370-9677f46afc0c",
   "metadata": {},
   "source": [
    "REST (Representational State Transfer) and SOAP (Simple Object Access Protocol) are two architectual syles used to for designing web services.\n",
    "\n",
    "**Disadvantages of SOAP:**\n",
    "\n",
    "- Complexity: SOAP messages with XML-based structure can be verbose and complex, making them harder to read and debug than simpler formats like JSON.\n",
    "- Overhead: it has more overhead due to the XML message format, wich can result in larger message sizes and increased network traffic.\n",
    "- Performance: it has slower performance compared to REST due to its complexity and additional parsing required for its messages.\n",
    "- Lack of Browser Support: it is not browser-friendly as REST, making it less suitable for client-side web applications.\n",
    "- Tight Coupling: it services can lead to tighter coupling between the client and server, making it more challenging to evolve and maintain the system.\n",
    "- Limited Ecosystem: it is commonly used in enterprise and legacy systems."
   ]
  },
  {
   "cell_type": "markdown",
   "id": "da81b4da-b1b0-4840-9495-4049775d8069",
   "metadata": {},
   "source": [
    "### Q5. Differentiate between REST and SOAP."
   ]
  },
  {
   "cell_type": "markdown",
   "id": "a86d4ec9-5541-4c81-82c0-3135940652bc",
   "metadata": {},
   "source": [
    "The major difference between REST (Representational State Transfer) and SOAP (Simple Object Access Protocol) is that SOAP is a protocol; it defines a specific set of rules and standards for structuring messages and handling communication while REST is an architectural style, it uses a set of principles and constrains for designing networked applications. Also SOAP messages are typically encoded in XML fromat while RESTful services can use various data formats for messages, like JSON, XML, and even plain text. "
   ]
  }
 ],
 "metadata": {
  "kernelspec": {
   "display_name": "Python 3 (ipykernel)",
   "language": "python",
   "name": "python3"
  },
  "language_info": {
   "codemirror_mode": {
    "name": "ipython",
    "version": 3
   },
   "file_extension": ".py",
   "mimetype": "text/x-python",
   "name": "python",
   "nbconvert_exporter": "python",
   "pygments_lexer": "ipython3",
   "version": "3.9.17"
  }
 },
 "nbformat": 4,
 "nbformat_minor": 5
}
