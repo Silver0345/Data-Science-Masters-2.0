{
 "cells": [
  {
   "cell_type": "markdown",
   "id": "e5a26579-f98f-4ea9-b9cc-3660c834c5b9",
   "metadata": {},
   "source": [
    "# Functions Assignment"
   ]
  },
  {
   "cell_type": "markdown",
   "id": "9ca7be90-8a48-40ef-b08f-bdee173b923c",
   "metadata": {},
   "source": [
    "### Q1. Which keyword is used to create a function? Create a function to return a list of odd numbers in the range of 1 to 25."
   ]
  },
  {
   "cell_type": "code",
   "execution_count": 1,
   "id": "f8b2ad09-2b49-45fd-b160-be8648d1f9c6",
   "metadata": {},
   "outputs": [],
   "source": [
    "# Keyword 'def' is used to create a function."
   ]
  },
  {
   "cell_type": "code",
   "execution_count": 2,
   "id": "237449ae-2fda-44b9-b166-3cd5843464d8",
   "metadata": {},
   "outputs": [],
   "source": [
    "def odd_numb():\n",
    "    l =[]\n",
    "    for i in range(25):\n",
    "        if i%2 !=0:\n",
    "            l.append(i)\n",
    "    return l"
   ]
  },
  {
   "cell_type": "code",
   "execution_count": 3,
   "id": "bebc6a9f-2753-445e-bf6a-fc346e80b167",
   "metadata": {},
   "outputs": [
    {
     "data": {
      "text/plain": [
       "[1, 3, 5, 7, 9, 11, 13, 15, 17, 19, 21, 23]"
      ]
     },
     "execution_count": 3,
     "metadata": {},
     "output_type": "execute_result"
    }
   ],
   "source": [
    "odd_numb()"
   ]
  },
  {
   "cell_type": "markdown",
   "id": "4b7fb0cf-3c56-4445-ba75-5399db9d2317",
   "metadata": {},
   "source": [
    "### Q2. Why *args and **kwargs is used in some functions? Create a function each for *args and **kwargs to demonstrate their use."
   ]
  },
  {
   "cell_type": "code",
   "execution_count": 4,
   "id": "d0851991-852a-4512-b946-9eda7e6936fe",
   "metadata": {},
   "outputs": [],
   "source": [
    "# *args is used to take 1 or multiple arguments while **kwargs is used to take 1 or multiple dictionary: key(s) and value(s) argument(s)"
   ]
  },
  {
   "cell_type": "code",
   "execution_count": 5,
   "id": "31bbefa2-c405-4607-bbf8-9f4432889e46",
   "metadata": {},
   "outputs": [],
   "source": [
    "def arg(*args):\n",
    "    return args"
   ]
  },
  {
   "cell_type": "code",
   "execution_count": 6,
   "id": "27debef1-703d-4f5d-986f-d7ac0b732ba1",
   "metadata": {},
   "outputs": [
    {
     "data": {
      "text/plain": [
       "(1, 2, 3, 'Hello', 'World')"
      ]
     },
     "execution_count": 6,
     "metadata": {},
     "output_type": "execute_result"
    }
   ],
   "source": [
    "arg(1,2,3,'Hello', 'World')"
   ]
  },
  {
   "cell_type": "code",
   "execution_count": 7,
   "id": "ecc30763-c894-4968-9d6c-086398c91dea",
   "metadata": {},
   "outputs": [
    {
     "ename": "TypeError",
     "evalue": "arg() got an unexpected keyword argument 'a'",
     "output_type": "error",
     "traceback": [
      "\u001b[1;31m---------------------------------------------------------------------------\u001b[0m",
      "\u001b[1;31mTypeError\u001b[0m                                 Traceback (most recent call last)",
      "Input \u001b[1;32mIn [7]\u001b[0m, in \u001b[0;36m<cell line: 1>\u001b[1;34m()\u001b[0m\n\u001b[1;32m----> 1\u001b[0m \u001b[43marg\u001b[49m\u001b[43m(\u001b[49m\u001b[43ma\u001b[49m\u001b[38;5;241;43m=\u001b[39;49m\u001b[38;5;241;43m1\u001b[39;49m\u001b[43m,\u001b[49m\u001b[43mb\u001b[49m\u001b[38;5;241;43m=\u001b[39;49m\u001b[38;5;241;43m2\u001b[39;49m\u001b[43m,\u001b[49m\u001b[43mc\u001b[49m\u001b[38;5;241;43m=\u001b[39;49m\u001b[38;5;124;43m'\u001b[39;49m\u001b[38;5;124;43mHello\u001b[39;49m\u001b[38;5;124;43m'\u001b[39;49m\u001b[43m)\u001b[49m\n",
      "\u001b[1;31mTypeError\u001b[0m: arg() got an unexpected keyword argument 'a'"
     ]
    }
   ],
   "source": [
    "arg(a=1,b=2,c='Hello') # *args does not accept key(s) and value(s) argument(s) "
   ]
  },
  {
   "cell_type": "code",
   "execution_count": 8,
   "id": "74696883-6b40-475a-a9c4-93957882d23e",
   "metadata": {},
   "outputs": [],
   "source": [
    "def karg(**kwargs):\n",
    "    return kwargs"
   ]
  },
  {
   "cell_type": "code",
   "execution_count": 9,
   "id": "a2684420-0845-41ce-acde-204e4d836161",
   "metadata": {},
   "outputs": [
    {
     "data": {
      "text/plain": [
       "{'a': 1, 'b': 2, 'c': 3, 'd': 'Hello', 'e': 'World'}"
      ]
     },
     "execution_count": 9,
     "metadata": {},
     "output_type": "execute_result"
    }
   ],
   "source": [
    "karg(a=1, b=2, c=3, d='Hello', e='World')"
   ]
  },
  {
   "cell_type": "code",
   "execution_count": 10,
   "id": "d2811834-d837-4f4c-baea-ff4b1484db5a",
   "metadata": {},
   "outputs": [
    {
     "ename": "TypeError",
     "evalue": "karg() takes 0 positional arguments but 5 were given",
     "output_type": "error",
     "traceback": [
      "\u001b[1;31m---------------------------------------------------------------------------\u001b[0m",
      "\u001b[1;31mTypeError\u001b[0m                                 Traceback (most recent call last)",
      "Input \u001b[1;32mIn [10]\u001b[0m, in \u001b[0;36m<cell line: 1>\u001b[1;34m()\u001b[0m\n\u001b[1;32m----> 1\u001b[0m \u001b[43mkarg\u001b[49m\u001b[43m(\u001b[49m\u001b[38;5;241;43m1\u001b[39;49m\u001b[43m,\u001b[49m\u001b[38;5;241;43m2\u001b[39;49m\u001b[43m,\u001b[49m\u001b[38;5;241;43m3\u001b[39;49m\u001b[43m,\u001b[49m\u001b[38;5;124;43m'\u001b[39;49m\u001b[38;5;124;43mHello\u001b[39;49m\u001b[38;5;124;43m'\u001b[39;49m\u001b[43m,\u001b[49m\u001b[43m \u001b[49m\u001b[38;5;124;43m'\u001b[39;49m\u001b[38;5;124;43mWorld\u001b[39;49m\u001b[38;5;124;43m'\u001b[39;49m\u001b[43m)\u001b[49m\n",
      "\u001b[1;31mTypeError\u001b[0m: karg() takes 0 positional arguments but 5 were given"
     ]
    }
   ],
   "source": [
    "karg(1,2,3,'Hello', 'World') # *kwargs does not accept any other arguments beside key(s) and value(s) argument(s) "
   ]
  },
  {
   "cell_type": "markdown",
   "id": "00c71863-e616-41a5-a672-4428b0f1225f",
   "metadata": {},
   "source": [
    "### Q3.  What is an iterator in python? Name the method used to initialise the iterator object and the method used for iteration. Use these methods to print the first five elements of the given list [2, 4, 6, 8, 10, 12, 14, 16, 18, 20]."
   ]
  },
  {
   "cell_type": "code",
   "execution_count": 11,
   "id": "e80f45ce-c45a-4619-b19f-056851d3e4a1",
   "metadata": {},
   "outputs": [],
   "source": [
    "# An iterator is an object that allows to iterate over collections of data like list, tuple, sets, and dictionaries.\n",
    "# The method used to initialise the iterator object is iter() while the method used for iteration is next()"
   ]
  },
  {
   "cell_type": "code",
   "execution_count": 12,
   "id": "3969435d-1e5a-4d7d-ae78-f764fdd40fb6",
   "metadata": {},
   "outputs": [
    {
     "data": {
      "text/plain": [
       "[2, 4, 6, 8, 10, 12, 14, 16, 18, 20]"
      ]
     },
     "execution_count": 12,
     "metadata": {},
     "output_type": "execute_result"
    }
   ],
   "source": [
    "lst = [2, 4, 6, 8, 10, 12, 14, 16, 18, 20]\n",
    "lst"
   ]
  },
  {
   "cell_type": "code",
   "execution_count": 13,
   "id": "bea5c8ed-1b08-480f-bfef-1067b743dec5",
   "metadata": {},
   "outputs": [],
   "source": [
    "iter_lst = iter(lst)"
   ]
  },
  {
   "cell_type": "code",
   "execution_count": 14,
   "id": "b4210c21-0588-4f9c-8df4-f9ca11dc97c8",
   "metadata": {},
   "outputs": [
    {
     "data": {
      "text/plain": [
       "2"
      ]
     },
     "execution_count": 14,
     "metadata": {},
     "output_type": "execute_result"
    }
   ],
   "source": [
    "next(iter_lst)"
   ]
  },
  {
   "cell_type": "code",
   "execution_count": 15,
   "id": "fd85f9b6-1674-47ec-ba7b-5210d2267d24",
   "metadata": {},
   "outputs": [
    {
     "data": {
      "text/plain": [
       "4"
      ]
     },
     "execution_count": 15,
     "metadata": {},
     "output_type": "execute_result"
    }
   ],
   "source": [
    "next(iter_lst)"
   ]
  },
  {
   "cell_type": "code",
   "execution_count": 16,
   "id": "6788da0d-b835-47ed-a25e-b91a89514af4",
   "metadata": {},
   "outputs": [
    {
     "name": "stdout",
     "output_type": "stream",
     "text": [
      "6\n",
      "8\n",
      "10\n",
      "12\n",
      "14\n"
     ]
    }
   ],
   "source": [
    "count = 0\n",
    "\n",
    "while count <5:\n",
    "    # item will be \"end\" if iteration is complete\n",
    "    item = next(iter_lst, \"end\")\n",
    "    print(item)\n",
    "    count= count +1\n",
    "    "
   ]
  },
  {
   "cell_type": "code",
   "execution_count": 17,
   "id": "69c10af3-cf50-4ce3-854a-d843f53f267d",
   "metadata": {},
   "outputs": [
    {
     "name": "stdout",
     "output_type": "stream",
     "text": [
      "2\n",
      "4\n",
      "6\n",
      "8\n",
      "10\n"
     ]
    }
   ],
   "source": [
    "for i in range(5):\n",
    "    print(lst[i])\n",
    "    \n",
    "    "
   ]
  },
  {
   "cell_type": "markdown",
   "id": "1234b154-049d-416c-b088-1f2d5f0f2a85",
   "metadata": {},
   "source": [
    "### Q4.  What is a generator function in python? Why yield keyword is used? Give an example of a generator function."
   ]
  },
  {
   "cell_type": "code",
   "execution_count": 18,
   "id": "f7f7a562-735b-4766-a0cc-e37981011bf3",
   "metadata": {},
   "outputs": [],
   "source": [
    "# A generator function is a function that return an iterator. It is useful when we want to return a large sequence of values but we don't want to store all of them in the memory at once.\n",
    "# We use yield keyword to produce a value from generator instead of return keyword"
   ]
  },
  {
   "cell_type": "code",
   "execution_count": 19,
   "id": "503e8ca7-1a73-493b-8471-99d69c1b75ec",
   "metadata": {},
   "outputs": [
    {
     "data": {
      "text/plain": [
       "[2, 4, 6, 8, 10, 12, 14, 16, 18, 20]"
      ]
     },
     "execution_count": 19,
     "metadata": {},
     "output_type": "execute_result"
    }
   ],
   "source": [
    "lst"
   ]
  },
  {
   "cell_type": "code",
   "execution_count": 20,
   "id": "629bf964-cf02-4997-b654-096a804b25a1",
   "metadata": {},
   "outputs": [],
   "source": [
    "def pow_n(lst, n):\n",
    "    for i in lst:\n",
    "       yield i**n "
   ]
  },
  {
   "cell_type": "code",
   "execution_count": 21,
   "id": "0897edbc-5085-4138-93c5-a3ccac02ada1",
   "metadata": {},
   "outputs": [
    {
     "name": "stdout",
     "output_type": "stream",
     "text": [
      "4\n",
      "16\n",
      "36\n",
      "64\n",
      "100\n",
      "144\n",
      "196\n",
      "256\n",
      "324\n",
      "400\n"
     ]
    }
   ],
   "source": [
    "for i in pow_n(lst,2):\n",
    "    print(i)"
   ]
  },
  {
   "cell_type": "code",
   "execution_count": 22,
   "id": "133c5d00-e6aa-49c5-b1c1-1f4f3bddcec7",
   "metadata": {},
   "outputs": [
    {
     "data": {
      "text/plain": [
       "[8, 64, 216, 512, 1000, 1728, 2744, 4096, 5832, 8000]"
      ]
     },
     "execution_count": 22,
     "metadata": {},
     "output_type": "execute_result"
    }
   ],
   "source": [
    "list(pow_n(lst,3))"
   ]
  },
  {
   "cell_type": "markdown",
   "id": "d7bb864e-710e-4210-a200-f811083b80df",
   "metadata": {},
   "source": [
    "### Q5. Create a generator function for prime numbers less than 1000. Use the next() method to print the first 20 prime numbers.\n"
   ]
  },
  {
   "cell_type": "code",
   "execution_count": 23,
   "id": "71de1c0a-0a50-4a4d-a82f-fef72db435c4",
   "metadata": {},
   "outputs": [],
   "source": [
    "# Testing\n",
    "numb = list(range(2,1000)) # start from 2 since 1 is not a prime number\n",
    "div_numb = list(range(2,1000))"
   ]
  },
  {
   "cell_type": "code",
   "execution_count": 24,
   "id": "bf493505-3108-4769-abb8-44f9c341e90c",
   "metadata": {},
   "outputs": [
    {
     "name": "stdout",
     "output_type": "stream",
     "text": [
      "2\n",
      "3\n",
      "5\n",
      "7\n",
      "11\n",
      "13\n",
      "17\n",
      "19\n",
      "23\n",
      "29\n",
      "31\n",
      "37\n",
      "41\n",
      "43\n",
      "47\n",
      "53\n",
      "59\n",
      "61\n",
      "67\n",
      "71\n"
     ]
    }
   ],
   "source": [
    "prime_numb = list(filter(lambda x: all(x%y !=0 for y in numb if y !=x), div_numb))\n",
    "for i in range(20):\n",
    "    print(prime_numb[i])"
   ]
  },
  {
   "cell_type": "code",
   "execution_count": 25,
   "id": "62ece1ef-ee69-4c26-997c-3d7c2b2c9b65",
   "metadata": {},
   "outputs": [],
   "source": [
    "# Answer\n",
    "def is_prime(x, divisors):\n",
    "     return  all(x % y for y in divisors if y != x)\n",
    "    \n",
    "def prime_generator(n):\n",
    "    div_num = list(range(2,n))   \n",
    "    for num in range(2, n):\n",
    "        if is_prime(num, div_num):\n",
    "            yield num\n",
    "            "
   ]
  },
  {
   "cell_type": "code",
   "execution_count": 26,
   "id": "706de81d-d7b5-48ef-8660-0e1c7af11314",
   "metadata": {},
   "outputs": [],
   "source": [
    "prime_numb2 = prime_generator(1000)"
   ]
  },
  {
   "cell_type": "code",
   "execution_count": 27,
   "id": "02e7628e-068c-49d9-aee4-cf16e57f0705",
   "metadata": {},
   "outputs": [
    {
     "name": "stdout",
     "output_type": "stream",
     "text": [
      "2\n",
      "3\n",
      "5\n",
      "7\n",
      "11\n",
      "13\n",
      "17\n",
      "19\n",
      "23\n",
      "29\n",
      "31\n",
      "37\n",
      "41\n",
      "43\n",
      "47\n",
      "53\n",
      "59\n",
      "61\n",
      "67\n",
      "71\n"
     ]
    }
   ],
   "source": [
    "count = 0\n",
    "\n",
    "while count <20:\n",
    "    # item will be \"end\" if iteration is complete\n",
    "    item = next(prime_numb2, \"end\")\n",
    "    print(item)\n",
    "    count= count +1"
   ]
  }
 ],
 "metadata": {
  "kernelspec": {
   "display_name": "Python 3 (ipykernel)",
   "language": "python",
   "name": "python3"
  },
  "language_info": {
   "codemirror_mode": {
    "name": "ipython",
    "version": 3
   },
   "file_extension": ".py",
   "mimetype": "text/x-python",
   "name": "python",
   "nbconvert_exporter": "python",
   "pygments_lexer": "ipython3",
   "version": "3.9.13"
  }
 },
 "nbformat": 4,
 "nbformat_minor": 5
}
